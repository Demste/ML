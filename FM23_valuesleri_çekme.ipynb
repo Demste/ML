{
  "nbformat": 4,
  "nbformat_minor": 0,
  "metadata": {
    "colab": {
      "provenance": []
    },
    "kernelspec": {
      "name": "python3",
      "display_name": "Python 3"
    },
    "language_info": {
      "name": "python"
    }
  },
  "cells": [
    {
      "cell_type": "code",
      "execution_count": null,
      "metadata": {
        "id": "9Wh2plzjJ73h",
        "colab": {
          "base_uri": "https://localhost:8080/"
        },
        "outputId": "3af95562-4c59-4442-816a-8c2175825ae8"
      },
      "outputs": [
        {
          "output_type": "stream",
          "name": "stdout",
          "text": [
            "Requirement already satisfied: unidecode in /usr/local/lib/python3.10/dist-packages (1.3.8)\n"
          ]
        }
      ],
      "source": [
        "import pandas as pd\n",
        "import re\n",
        "import requests\n",
        "from bs4 import BeautifulSoup\n",
        "import pandas as pd , numpy as np\n",
        "import plotly.express as px\n",
        "!pip install unidecode\n",
        "\n",
        "\n",
        "# CSV dosyasının yolu\n",
        "dosya_yolu = '/content/drive/MyDrive/CSV/FM 2023.csv'\n",
        "\n",
        "# CSV dosyasını oku\n",
        "df = pd.read_csv(dosya_yolu)\n",
        "fm=df.copy()"
      ]
    },
    {
      "cell_type": "markdown",
      "source": [
        "Gerçek veri setimizin üstünde işlem yapmamak için başka bir yere kopyaladık:"
      ],
      "metadata": {
        "id": "Voo0fhIzRofj"
      }
    },
    {
      "cell_type": "code",
      "source": [
        "headers={\n",
        "    \"User-Agent\":\"Mozilla/5.0 (Windows NT 10.0; Win64; x64) AppleWebKit/537.36 (KHTML, like Gecko) Chrome/122.0.0.0 Safari/537.36\"\n",
        "\n",
        "}\n"
      ],
      "metadata": {
        "id": "wOSiWPDLUkP1"
      },
      "execution_count": null,
      "outputs": []
    },
    {
      "cell_type": "code",
      "source": [
        "from unidecode import unidecode\n",
        "\n",
        "def Convert_to_latin(string):\n",
        "    return unidecode(string)\n"
      ],
      "metadata": {
        "id": "snUs1gK3E8th"
      },
      "execution_count": null,
      "outputs": []
    },
    {
      "cell_type": "code",
      "source": [
        "import requests\n",
        "from bs4 import BeautifulSoup\n",
        "import re\n",
        "from unidecode import unidecode\n",
        "\n",
        "def Convert_to_latin(text):\n",
        "    return unidecode(text)\n",
        "\n",
        "def Find_Player_Url(player_name):\n",
        "    search_url = f\"https://www.transfermarkt.com/schnellsuche/ergebnis/schnellsuche?query={player_name}&x=0&y=0\"\n",
        "\n",
        "    # Headers tanımlama\n",
        "    headers = {\n",
        "        'User-Agent': 'Mozilla/5.0 (Windows NT 10.0; Win64; x64) AppleWebKit/537.36 (KHTML, like Gecko) Chrome/58.0.3029.110 Safari/537.3'\n",
        "    }\n",
        "\n",
        "    try:\n",
        "        response = requests.get(search_url, headers=headers)\n",
        "\n",
        "        if response.status_code == 200:\n",
        "            html_content = response.content\n",
        "            soup = BeautifulSoup(html_content, 'html.parser')\n",
        "\n",
        "            # Oyuncu adına göre ilk sonuçtan URL'yi çıkartma\n",
        "            player_link = soup.find('a', {'title': player_name})\n",
        "\n",
        "            if player_link:\n",
        "                player_url = player_link['href']\n",
        "                full_url = f\"https://www.transfermarkt.com{player_url}\"\n",
        "                return full_url\n",
        "            else:\n",
        "                # Oyuncu bağlantısı bulunamadı, Latin alfabesine çevrilmiş oyuncu adı ile tekrar dene\n",
        "                latin_player_name = Convert_to_latin(player_name)\n",
        "                if latin_player_name != player_name:\n",
        "                    return Find_Player_Url(latin_player_name)\n",
        "                else:\n",
        "                    print(\"Oyuncu bağlantısı bulunamadı.\")\n",
        "        else:\n",
        "            print(f\"HTTP Hatası: {response.status_code}\")\n",
        "    except Exception as e:\n",
        "        print(f\"Hata oluştu: {e}\")\n",
        "\n"
      ],
      "metadata": {
        "id": "ynPzMVec8v64"
      },
      "execution_count": null,
      "outputs": []
    },
    {
      "cell_type": "code",
      "source": [
        "\n",
        "def Find_Player_UrlDetail(player_name):\n",
        "    search_url = f\"https://www.transfermarkt.com/schnellsuche/ergebnis/schnellsuche?query={player_name}&x=0&y=0\"\n",
        "\n",
        "    # Headers tanımlama\n",
        "    headers = {\n",
        "        'User-Agent': 'Mozilla/5.0 (Windows NT 10.0; Win64; x64) AppleWebKit/537.36 (KHTML, like Gecko) Chrome/58.0.3029.110 Safari/537.3'\n",
        "    }\n",
        "\n",
        "    try:\n",
        "        response = requests.get(search_url, headers=headers)\n",
        "\n",
        "        if response.status_code == 200:\n",
        "            html_content = response.content\n",
        "            soup = BeautifulSoup(html_content, 'html.parser')\n",
        "\n",
        "            # Oyuncu adına göre ilk sonuçtan URL'yi çıkartma\n",
        "            #player_link = soup.find('a', {'class': 'spielprofil_tooltip', 'title': player_name})\n",
        "            player_link = soup.find('a', {'title': player_name, 'href': re.compile(r'/profil/spieler/\\d+')})\n",
        "\n",
        "\n",
        "\n",
        "            if player_link:\n",
        "\n",
        "                player_url = player_link['href']\n",
        "                full_url = f\"https://www.transfermarkt.com{player_url}\"\n",
        "\n",
        "                return full_url\n",
        "            else:\n",
        "                # Arama sonuçlarını kontrol et\n",
        "                search_results = soup.find('div', {'class': 'search-results'})\n",
        "                print(search_results)\n",
        "        else:\n",
        "            print(f\"HTTP Hatası: {response.status_code}\")\n",
        "    except Exception as e:\n",
        "        basic_url=Find_Player_Url(player_name)\n",
        "        print(f\"Hata oluştu: {e}\")\n",
        "        return basic_url\n",
        "\n",
        "# Örnek kullanım\n",
        "player_name = \"Mehdi Ghaedi\"\n",
        "url = Find_Player_UrlDetail(player_name)\n",
        "print(f\"{player_name}'nin Transfermarkt profili: {url}\")\n"
      ],
      "metadata": {
        "colab": {
          "base_uri": "https://localhost:8080/"
        },
        "id": "A8Coq61yYi9b",
        "outputId": "82ddb100-7738-4663-b0c6-23ffd22c7858"
      },
      "execution_count": null,
      "outputs": [
        {
          "output_type": "stream",
          "name": "stdout",
          "text": [
            "None\n",
            "Mehdi Ghaedi'nin Transfermarkt profili: None\n"
          ]
        }
      ]
    },
    {
      "cell_type": "code",
      "source": [
        "def Get_Market_Value(player_name):\n",
        "\n",
        "    url = Find_Player_Url(player_name)\n",
        "\n",
        "    headers = {\n",
        "        'User-Agent': 'Mozilla/5.0 (Windows NT 10.0; Win64; x64) AppleWebKit/537.36 (KHTML, like Gecko) Chrome/58.0.3029.110 Safari/537.3'\n",
        "    }\n",
        "    response = requests.get(url, headers=headers)\n",
        "    soup = BeautifulSoup(response.content, \"html.parser\")\n",
        "\n",
        "    market_value_element = soup.find('a', class_='data-header__market-value-wrapper')\n",
        "\n",
        "    if market_value_element:\n",
        "        market_value_text = market_value_element.text.strip()\n",
        "        numeric_part = re.search(r'\\d+\\.\\d+|\\d+', market_value_text)\n",
        "        market_value = float(numeric_part.group()) if numeric_part else None\n",
        "        return market_value\n",
        "    else:\n",
        "        return 0\n",
        "\n",
        "\n",
        "market_value_result = Get_Market_Value(\"Neymar\")\n",
        "\n",
        "if market_value_result is not None:\n",
        "    print(\"Market Value:\", market_value_result)\n",
        "else:\n",
        "    print(\"Market value element not found.\")"
      ],
      "metadata": {
        "colab": {
          "base_uri": "https://localhost:8080/"
        },
        "id": "Mu6dFOGOCPjW",
        "outputId": "e8b55498-5672-430c-c90c-837597b74b5a"
      },
      "execution_count": null,
      "outputs": [
        {
          "output_type": "stream",
          "name": "stdout",
          "text": [
            "Market Value: 45.0\n"
          ]
        }
      ]
    },
    {
      "cell_type": "code",
      "source": [
        "fm['Values'] = fm['Values'].astype(float)\n",
        "fm.info()"
      ],
      "metadata": {
        "id": "50Kv20neYoIs"
      },
      "execution_count": null,
      "outputs": []
    },
    {
      "cell_type": "code",
      "source": [
        "\n",
        "market_value_resul = Get_Market_Value(fm.iloc[0][\"Name\"])\n",
        "print(market_value_resul)\n"
      ],
      "metadata": {
        "colab": {
          "base_uri": "https://localhost:8080/"
        },
        "id": "aRQKYt1FZexc",
        "outputId": "22055335-a9e1-4f22-d231-95bd662bd606"
      },
      "execution_count": null,
      "outputs": [
        {
          "output_type": "stream",
          "name": "stdout",
          "text": [
            "60.0\n"
          ]
        }
      ]
    },
    {
      "cell_type": "code",
      "source": [
        "hatasayacı=0"
      ],
      "metadata": {
        "id": "BEyuhTORBSXA"
      },
      "execution_count": null,
      "outputs": []
    },
    {
      "cell_type": "code",
      "source": [
        "for satir_indeksi, satir in df.iterrows():\n",
        "\n",
        "    try:\n",
        "\n",
        "        # Her satır için bir işlem yapalım (örneğin, Name ve Values sütunlarını yazdıralım)\n",
        "        sutun_adi = 'Values'\n",
        "        istenen_deger = Get_Market_Value(fm.iloc[satir_indeksi][\"Name\"])  # Değiştirmek istediğiniz yeni değer\n",
        "        if(istenen_deger>181):\n",
        "          istenen_deger=istenen_deger/1000\n",
        "\n",
        "\n",
        "        fm.at[satir_indeksi, sutun_adi] = istenen_deger\n",
        "        print(str(fm.iloc[satir_indeksi][\"Name\"]) +\" \" +str(fm.iloc[satir_indeksi][\"Values\"]))\n",
        "\n",
        "\n",
        "        fm.to_csv('/content/drive/MyDrive/CSV/fmValues.csv', index=False)\n",
        "\n",
        "\n",
        "    except Exception as e:\n",
        "        print(\"Hata:\", e)\n",
        "        print(\"Hata Alınan index değeri\"+str(satir_indeksi))\n",
        "        print(hatasayacı)\n",
        "        hatasayacı+=1\n",
        "        continue  # Hata alındığında döngüyü sonraki satıra geçerek devam ettir\n",
        "\n",
        "print(\"Döngü tamamlandı.\")"
      ],
      "metadata": {
        "id": "icVs3naJk2Bm"
      },
      "execution_count": null,
      "outputs": []
    },
    {
      "cell_type": "code",
      "source": [
        "dosya_yolu = '/content/drive/MyDrive/CSV/fmValues.csv'\n",
        "\n",
        "# CSV dosyasını oku\n",
        "a= pd.read_csv(dosya_yolu)\n",
        "a.info()"
      ],
      "metadata": {
        "id": "X0VYY4iiG1mP"
      },
      "execution_count": null,
      "outputs": []
    },
    {
      "cell_type": "code",
      "source": [
        "buyuk_oyuncular = fm[fm['Values'] > 181]\n",
        "\n",
        "print(buyuk_oyuncular)"
      ],
      "metadata": {
        "id": "QYp_CRhyHLQT"
      },
      "execution_count": null,
      "outputs": []
    },
    {
      "cell_type": "code",
      "source": [
        "for satir_indeksi, satir in buyuk_oyuncular.iterrows():\n",
        "\n",
        "    try:\n",
        "\n",
        "        # Her satır için bir işlem yapalım (örneğin, Name ve Values sütunlarını yazdıralım)\n",
        "        sutun_adi = 'Values'\n",
        "        istenen_deger = Get_Market_Value(fm.iloc[satir_indeksi][\"Name\"])  # Değiştirmek istediğiniz yeni değer\n",
        "        if(istenen_deger>181):\n",
        "          istenen_deger=istenen_deger/1000\n",
        "\n",
        "\n",
        "        fm.at[satir_indeksi, sutun_adi] = istenen_deger\n",
        "        print(str(fm.iloc[satir_indeksi][\"Name\"]) +\" \" +str(fm.iloc[satir_indeksi][\"Values\"]))\n",
        "\n",
        "\n",
        "        fm.to_csv('/content/drive/MyDrive/CSV/fmValues.csv', index=False)\n",
        "\n",
        "\n",
        "    except Exception as e:\n",
        "        print(\"Hata:\", e)\n",
        "        print(\"Hata Alınan index değeri\"+str(satir_indeksi))\n",
        "        print(hatasayacı)\n",
        "        hatasayacı+=1\n",
        "        continue  # Hata alındığında döngüyü sonraki satıra geçerek devam ettir\n",
        "\n",
        "print(\"Döngü tamamlandı.\")"
      ],
      "metadata": {
        "id": "SSmsTr9IHsbe"
      },
      "execution_count": null,
      "outputs": []
    }
  ]
}