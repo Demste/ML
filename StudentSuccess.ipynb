{
  "nbformat": 4,
  "nbformat_minor": 0,
  "metadata": {
    "colab": {
      "provenance": []
    },
    "kernelspec": {
      "name": "python3",
      "display_name": "Python 3"
    },
    "language_info": {
      "name": "python"
    }
  },
  "cells": [
    {
      "cell_type": "code",
      "source": [
        "#drivea eriştik\n",
        "from google.colab import drive\n",
        "drive.mount('/content/drive')"
      ],
      "metadata": {
        "colab": {
          "base_uri": "https://localhost:8080/"
        },
        "id": "VrhZm9xMIlCs",
        "outputId": "4052fe98-96d5-44e4-d7a4-84665756e171"
      },
      "execution_count": null,
      "outputs": [
        {
          "output_type": "stream",
          "name": "stdout",
          "text": [
            "Mounted at /content/drive\n"
          ]
        }
      ]
    },
    {
      "cell_type": "code",
      "execution_count": 112,
      "metadata": {
        "id": "BApeHIr7_U01"
      },
      "outputs": [],
      "source": [
        "import pandas as pd\n",
        "import matplotlib.pyplot as plt\n",
        "import seaborn as sns\n",
        "\n",
        "dosya_yolu= '/content/drive/MyDrive/CSV/original_data.csv'\n",
        "\n",
        "df=pd.read_csv(dosya_yolu)\n",
        "#ana veri seti bozulmasın diye kopyaladık\n",
        "df_intAll=df.copy()\n",
        "\n"
      ]
    },
    {
      "cell_type": "markdown",
      "source": [
        "**1)VERİ SETİMİZİ TANIYALIM**"
      ],
      "metadata": {
        "id": "3Agbv1_x_o8s"
      }
    },
    {
      "cell_type": "code",
      "source": [
        "df.head(5)"
      ],
      "metadata": {
        "id": "3HKi-9CbAJGt",
        "colab": {
          "base_uri": "https://localhost:8080/",
          "height": 236
        },
        "outputId": "49c1b224-c0f3-41c2-fe39-88f24b4be2c5"
      },
      "execution_count": null,
      "outputs": [
        {
          "output_type": "execute_result",
          "data": {
            "text/plain": [
              "   Unnamed: 0 school sex  age address famsize Pstatus  Medu  Fedu     Mjob  \\\n",
              "0           0     GP   F   18       U     GT3       A     4     4  at_home   \n",
              "1           1     GP   F   17       U     GT3       T     1     1  at_home   \n",
              "2           2     GP   F   15       U     LE3       T     1     1  at_home   \n",
              "3           3     GP   F   15       U     GT3       T     4     2   health   \n",
              "4           4     GP   F   16       U     GT3       T     3     3    other   \n",
              "\n",
              "   ... Dalc Walc health  absences  G1  G2  G3 subject   Pass Parents_edu  \n",
              "0  ...    1    1      3         5   5   6   6   Maths  False           4  \n",
              "1  ...    1    1      3         3   5   5   6   Maths  False           1  \n",
              "2  ...    2    3      3         7   7   8  10   Maths   True           1  \n",
              "3  ...    1    1      5         1  15  14  15   Maths   True           4  \n",
              "4  ...    1    2      5         3   6  10  10   Maths   True           3  \n",
              "\n",
              "[5 rows x 37 columns]"
            ],
            "text/html": [
              "\n",
              "  <div id=\"df-30e051b8-1a8a-467c-9c18-3edc99e0e796\" class=\"colab-df-container\">\n",
              "    <div>\n",
              "<style scoped>\n",
              "    .dataframe tbody tr th:only-of-type {\n",
              "        vertical-align: middle;\n",
              "    }\n",
              "\n",
              "    .dataframe tbody tr th {\n",
              "        vertical-align: top;\n",
              "    }\n",
              "\n",
              "    .dataframe thead th {\n",
              "        text-align: right;\n",
              "    }\n",
              "</style>\n",
              "<table border=\"1\" class=\"dataframe\">\n",
              "  <thead>\n",
              "    <tr style=\"text-align: right;\">\n",
              "      <th></th>\n",
              "      <th>Unnamed: 0</th>\n",
              "      <th>school</th>\n",
              "      <th>sex</th>\n",
              "      <th>age</th>\n",
              "      <th>address</th>\n",
              "      <th>famsize</th>\n",
              "      <th>Pstatus</th>\n",
              "      <th>Medu</th>\n",
              "      <th>Fedu</th>\n",
              "      <th>Mjob</th>\n",
              "      <th>...</th>\n",
              "      <th>Dalc</th>\n",
              "      <th>Walc</th>\n",
              "      <th>health</th>\n",
              "      <th>absences</th>\n",
              "      <th>G1</th>\n",
              "      <th>G2</th>\n",
              "      <th>G3</th>\n",
              "      <th>subject</th>\n",
              "      <th>Pass</th>\n",
              "      <th>Parents_edu</th>\n",
              "    </tr>\n",
              "  </thead>\n",
              "  <tbody>\n",
              "    <tr>\n",
              "      <th>0</th>\n",
              "      <td>0</td>\n",
              "      <td>GP</td>\n",
              "      <td>F</td>\n",
              "      <td>18</td>\n",
              "      <td>U</td>\n",
              "      <td>GT3</td>\n",
              "      <td>A</td>\n",
              "      <td>4</td>\n",
              "      <td>4</td>\n",
              "      <td>at_home</td>\n",
              "      <td>...</td>\n",
              "      <td>1</td>\n",
              "      <td>1</td>\n",
              "      <td>3</td>\n",
              "      <td>5</td>\n",
              "      <td>5</td>\n",
              "      <td>6</td>\n",
              "      <td>6</td>\n",
              "      <td>Maths</td>\n",
              "      <td>False</td>\n",
              "      <td>4</td>\n",
              "    </tr>\n",
              "    <tr>\n",
              "      <th>1</th>\n",
              "      <td>1</td>\n",
              "      <td>GP</td>\n",
              "      <td>F</td>\n",
              "      <td>17</td>\n",
              "      <td>U</td>\n",
              "      <td>GT3</td>\n",
              "      <td>T</td>\n",
              "      <td>1</td>\n",
              "      <td>1</td>\n",
              "      <td>at_home</td>\n",
              "      <td>...</td>\n",
              "      <td>1</td>\n",
              "      <td>1</td>\n",
              "      <td>3</td>\n",
              "      <td>3</td>\n",
              "      <td>5</td>\n",
              "      <td>5</td>\n",
              "      <td>6</td>\n",
              "      <td>Maths</td>\n",
              "      <td>False</td>\n",
              "      <td>1</td>\n",
              "    </tr>\n",
              "    <tr>\n",
              "      <th>2</th>\n",
              "      <td>2</td>\n",
              "      <td>GP</td>\n",
              "      <td>F</td>\n",
              "      <td>15</td>\n",
              "      <td>U</td>\n",
              "      <td>LE3</td>\n",
              "      <td>T</td>\n",
              "      <td>1</td>\n",
              "      <td>1</td>\n",
              "      <td>at_home</td>\n",
              "      <td>...</td>\n",
              "      <td>2</td>\n",
              "      <td>3</td>\n",
              "      <td>3</td>\n",
              "      <td>7</td>\n",
              "      <td>7</td>\n",
              "      <td>8</td>\n",
              "      <td>10</td>\n",
              "      <td>Maths</td>\n",
              "      <td>True</td>\n",
              "      <td>1</td>\n",
              "    </tr>\n",
              "    <tr>\n",
              "      <th>3</th>\n",
              "      <td>3</td>\n",
              "      <td>GP</td>\n",
              "      <td>F</td>\n",
              "      <td>15</td>\n",
              "      <td>U</td>\n",
              "      <td>GT3</td>\n",
              "      <td>T</td>\n",
              "      <td>4</td>\n",
              "      <td>2</td>\n",
              "      <td>health</td>\n",
              "      <td>...</td>\n",
              "      <td>1</td>\n",
              "      <td>1</td>\n",
              "      <td>5</td>\n",
              "      <td>1</td>\n",
              "      <td>15</td>\n",
              "      <td>14</td>\n",
              "      <td>15</td>\n",
              "      <td>Maths</td>\n",
              "      <td>True</td>\n",
              "      <td>4</td>\n",
              "    </tr>\n",
              "    <tr>\n",
              "      <th>4</th>\n",
              "      <td>4</td>\n",
              "      <td>GP</td>\n",
              "      <td>F</td>\n",
              "      <td>16</td>\n",
              "      <td>U</td>\n",
              "      <td>GT3</td>\n",
              "      <td>T</td>\n",
              "      <td>3</td>\n",
              "      <td>3</td>\n",
              "      <td>other</td>\n",
              "      <td>...</td>\n",
              "      <td>1</td>\n",
              "      <td>2</td>\n",
              "      <td>5</td>\n",
              "      <td>3</td>\n",
              "      <td>6</td>\n",
              "      <td>10</td>\n",
              "      <td>10</td>\n",
              "      <td>Maths</td>\n",
              "      <td>True</td>\n",
              "      <td>3</td>\n",
              "    </tr>\n",
              "  </tbody>\n",
              "</table>\n",
              "<p>5 rows × 37 columns</p>\n",
              "</div>\n",
              "    <div class=\"colab-df-buttons\">\n",
              "\n",
              "  <div class=\"colab-df-container\">\n",
              "    <button class=\"colab-df-convert\" onclick=\"convertToInteractive('df-30e051b8-1a8a-467c-9c18-3edc99e0e796')\"\n",
              "            title=\"Convert this dataframe to an interactive table.\"\n",
              "            style=\"display:none;\">\n",
              "\n",
              "  <svg xmlns=\"http://www.w3.org/2000/svg\" height=\"24px\" viewBox=\"0 -960 960 960\">\n",
              "    <path d=\"M120-120v-720h720v720H120Zm60-500h600v-160H180v160Zm220 220h160v-160H400v160Zm0 220h160v-160H400v160ZM180-400h160v-160H180v160Zm440 0h160v-160H620v160ZM180-180h160v-160H180v160Zm440 0h160v-160H620v160Z\"/>\n",
              "  </svg>\n",
              "    </button>\n",
              "\n",
              "  <style>\n",
              "    .colab-df-container {\n",
              "      display:flex;\n",
              "      gap: 12px;\n",
              "    }\n",
              "\n",
              "    .colab-df-convert {\n",
              "      background-color: #E8F0FE;\n",
              "      border: none;\n",
              "      border-radius: 50%;\n",
              "      cursor: pointer;\n",
              "      display: none;\n",
              "      fill: #1967D2;\n",
              "      height: 32px;\n",
              "      padding: 0 0 0 0;\n",
              "      width: 32px;\n",
              "    }\n",
              "\n",
              "    .colab-df-convert:hover {\n",
              "      background-color: #E2EBFA;\n",
              "      box-shadow: 0px 1px 2px rgba(60, 64, 67, 0.3), 0px 1px 3px 1px rgba(60, 64, 67, 0.15);\n",
              "      fill: #174EA6;\n",
              "    }\n",
              "\n",
              "    .colab-df-buttons div {\n",
              "      margin-bottom: 4px;\n",
              "    }\n",
              "\n",
              "    [theme=dark] .colab-df-convert {\n",
              "      background-color: #3B4455;\n",
              "      fill: #D2E3FC;\n",
              "    }\n",
              "\n",
              "    [theme=dark] .colab-df-convert:hover {\n",
              "      background-color: #434B5C;\n",
              "      box-shadow: 0px 1px 3px 1px rgba(0, 0, 0, 0.15);\n",
              "      filter: drop-shadow(0px 1px 2px rgba(0, 0, 0, 0.3));\n",
              "      fill: #FFFFFF;\n",
              "    }\n",
              "  </style>\n",
              "\n",
              "    <script>\n",
              "      const buttonEl =\n",
              "        document.querySelector('#df-30e051b8-1a8a-467c-9c18-3edc99e0e796 button.colab-df-convert');\n",
              "      buttonEl.style.display =\n",
              "        google.colab.kernel.accessAllowed ? 'block' : 'none';\n",
              "\n",
              "      async function convertToInteractive(key) {\n",
              "        const element = document.querySelector('#df-30e051b8-1a8a-467c-9c18-3edc99e0e796');\n",
              "        const dataTable =\n",
              "          await google.colab.kernel.invokeFunction('convertToInteractive',\n",
              "                                                    [key], {});\n",
              "        if (!dataTable) return;\n",
              "\n",
              "        const docLinkHtml = 'Like what you see? Visit the ' +\n",
              "          '<a target=\"_blank\" href=https://colab.research.google.com/notebooks/data_table.ipynb>data table notebook</a>'\n",
              "          + ' to learn more about interactive tables.';\n",
              "        element.innerHTML = '';\n",
              "        dataTable['output_type'] = 'display_data';\n",
              "        await google.colab.output.renderOutput(dataTable, element);\n",
              "        const docLink = document.createElement('div');\n",
              "        docLink.innerHTML = docLinkHtml;\n",
              "        element.appendChild(docLink);\n",
              "      }\n",
              "    </script>\n",
              "  </div>\n",
              "\n",
              "\n",
              "<div id=\"df-f5207d3e-afc4-438a-a97f-d25de937246a\">\n",
              "  <button class=\"colab-df-quickchart\" onclick=\"quickchart('df-f5207d3e-afc4-438a-a97f-d25de937246a')\"\n",
              "            title=\"Suggest charts\"\n",
              "            style=\"display:none;\">\n",
              "\n",
              "<svg xmlns=\"http://www.w3.org/2000/svg\" height=\"24px\"viewBox=\"0 0 24 24\"\n",
              "     width=\"24px\">\n",
              "    <g>\n",
              "        <path d=\"M19 3H5c-1.1 0-2 .9-2 2v14c0 1.1.9 2 2 2h14c1.1 0 2-.9 2-2V5c0-1.1-.9-2-2-2zM9 17H7v-7h2v7zm4 0h-2V7h2v10zm4 0h-2v-4h2v4z\"/>\n",
              "    </g>\n",
              "</svg>\n",
              "  </button>\n",
              "\n",
              "<style>\n",
              "  .colab-df-quickchart {\n",
              "      --bg-color: #E8F0FE;\n",
              "      --fill-color: #1967D2;\n",
              "      --hover-bg-color: #E2EBFA;\n",
              "      --hover-fill-color: #174EA6;\n",
              "      --disabled-fill-color: #AAA;\n",
              "      --disabled-bg-color: #DDD;\n",
              "  }\n",
              "\n",
              "  [theme=dark] .colab-df-quickchart {\n",
              "      --bg-color: #3B4455;\n",
              "      --fill-color: #D2E3FC;\n",
              "      --hover-bg-color: #434B5C;\n",
              "      --hover-fill-color: #FFFFFF;\n",
              "      --disabled-bg-color: #3B4455;\n",
              "      --disabled-fill-color: #666;\n",
              "  }\n",
              "\n",
              "  .colab-df-quickchart {\n",
              "    background-color: var(--bg-color);\n",
              "    border: none;\n",
              "    border-radius: 50%;\n",
              "    cursor: pointer;\n",
              "    display: none;\n",
              "    fill: var(--fill-color);\n",
              "    height: 32px;\n",
              "    padding: 0;\n",
              "    width: 32px;\n",
              "  }\n",
              "\n",
              "  .colab-df-quickchart:hover {\n",
              "    background-color: var(--hover-bg-color);\n",
              "    box-shadow: 0 1px 2px rgba(60, 64, 67, 0.3), 0 1px 3px 1px rgba(60, 64, 67, 0.15);\n",
              "    fill: var(--button-hover-fill-color);\n",
              "  }\n",
              "\n",
              "  .colab-df-quickchart-complete:disabled,\n",
              "  .colab-df-quickchart-complete:disabled:hover {\n",
              "    background-color: var(--disabled-bg-color);\n",
              "    fill: var(--disabled-fill-color);\n",
              "    box-shadow: none;\n",
              "  }\n",
              "\n",
              "  .colab-df-spinner {\n",
              "    border: 2px solid var(--fill-color);\n",
              "    border-color: transparent;\n",
              "    border-bottom-color: var(--fill-color);\n",
              "    animation:\n",
              "      spin 1s steps(1) infinite;\n",
              "  }\n",
              "\n",
              "  @keyframes spin {\n",
              "    0% {\n",
              "      border-color: transparent;\n",
              "      border-bottom-color: var(--fill-color);\n",
              "      border-left-color: var(--fill-color);\n",
              "    }\n",
              "    20% {\n",
              "      border-color: transparent;\n",
              "      border-left-color: var(--fill-color);\n",
              "      border-top-color: var(--fill-color);\n",
              "    }\n",
              "    30% {\n",
              "      border-color: transparent;\n",
              "      border-left-color: var(--fill-color);\n",
              "      border-top-color: var(--fill-color);\n",
              "      border-right-color: var(--fill-color);\n",
              "    }\n",
              "    40% {\n",
              "      border-color: transparent;\n",
              "      border-right-color: var(--fill-color);\n",
              "      border-top-color: var(--fill-color);\n",
              "    }\n",
              "    60% {\n",
              "      border-color: transparent;\n",
              "      border-right-color: var(--fill-color);\n",
              "    }\n",
              "    80% {\n",
              "      border-color: transparent;\n",
              "      border-right-color: var(--fill-color);\n",
              "      border-bottom-color: var(--fill-color);\n",
              "    }\n",
              "    90% {\n",
              "      border-color: transparent;\n",
              "      border-bottom-color: var(--fill-color);\n",
              "    }\n",
              "  }\n",
              "</style>\n",
              "\n",
              "  <script>\n",
              "    async function quickchart(key) {\n",
              "      const quickchartButtonEl =\n",
              "        document.querySelector('#' + key + ' button');\n",
              "      quickchartButtonEl.disabled = true;  // To prevent multiple clicks.\n",
              "      quickchartButtonEl.classList.add('colab-df-spinner');\n",
              "      try {\n",
              "        const charts = await google.colab.kernel.invokeFunction(\n",
              "            'suggestCharts', [key], {});\n",
              "      } catch (error) {\n",
              "        console.error('Error during call to suggestCharts:', error);\n",
              "      }\n",
              "      quickchartButtonEl.classList.remove('colab-df-spinner');\n",
              "      quickchartButtonEl.classList.add('colab-df-quickchart-complete');\n",
              "    }\n",
              "    (() => {\n",
              "      let quickchartButtonEl =\n",
              "        document.querySelector('#df-f5207d3e-afc4-438a-a97f-d25de937246a button');\n",
              "      quickchartButtonEl.style.display =\n",
              "        google.colab.kernel.accessAllowed ? 'block' : 'none';\n",
              "    })();\n",
              "  </script>\n",
              "</div>\n",
              "\n",
              "    </div>\n",
              "  </div>\n"
            ],
            "application/vnd.google.colaboratory.intrinsic+json": {
              "type": "dataframe",
              "variable_name": "df"
            }
          },
          "metadata": {},
          "execution_count": 3
        }
      ]
    },
    {
      "cell_type": "code",
      "source": [
        "df_intAll = df_intAll.drop(columns=['Unnamed: 0'])\n"
      ],
      "metadata": {
        "id": "D8VWLd8mWSUJ"
      },
      "execution_count": 113,
      "outputs": []
    },
    {
      "cell_type": "code",
      "source": [
        "df_intAll.info()"
      ],
      "metadata": {
        "id": "UpG-s4ZA_tWd",
        "colab": {
          "base_uri": "https://localhost:8080/"
        },
        "outputId": "323c82eb-70a0-4953-acc7-b93845ff3731"
      },
      "execution_count": 114,
      "outputs": [
        {
          "output_type": "stream",
          "name": "stdout",
          "text": [
            "<class 'pandas.core.frame.DataFrame'>\n",
            "RangeIndex: 991 entries, 0 to 990\n",
            "Data columns (total 36 columns):\n",
            " #   Column       Non-Null Count  Dtype \n",
            "---  ------       --------------  ----- \n",
            " 0   school       991 non-null    object\n",
            " 1   sex          991 non-null    object\n",
            " 2   age          991 non-null    int64 \n",
            " 3   address      991 non-null    object\n",
            " 4   famsize      991 non-null    object\n",
            " 5   Pstatus      991 non-null    object\n",
            " 6   Medu         991 non-null    int64 \n",
            " 7   Fedu         991 non-null    int64 \n",
            " 8   Mjob         991 non-null    object\n",
            " 9   Fjob         991 non-null    object\n",
            " 10  reason       991 non-null    object\n",
            " 11  guardian     991 non-null    object\n",
            " 12  traveltime   991 non-null    int64 \n",
            " 13  studytime    991 non-null    int64 \n",
            " 14  failures     991 non-null    int64 \n",
            " 15  schoolsup    991 non-null    object\n",
            " 16  famsup       991 non-null    object\n",
            " 17  paid         991 non-null    object\n",
            " 18  activities   991 non-null    object\n",
            " 19  nursery      991 non-null    object\n",
            " 20  higher       991 non-null    object\n",
            " 21  internet     991 non-null    object\n",
            " 22  romantic     991 non-null    object\n",
            " 23  famrel       991 non-null    int64 \n",
            " 24  freetime     991 non-null    int64 \n",
            " 25  goout        991 non-null    int64 \n",
            " 26  Dalc         991 non-null    int64 \n",
            " 27  Walc         991 non-null    int64 \n",
            " 28  health       991 non-null    int64 \n",
            " 29  absences     991 non-null    int64 \n",
            " 30  G1           991 non-null    int64 \n",
            " 31  G2           991 non-null    int64 \n",
            " 32  G3           991 non-null    int64 \n",
            " 33  subject      991 non-null    object\n",
            " 34  Pass         991 non-null    bool  \n",
            " 35  Parents_edu  991 non-null    int64 \n",
            "dtypes: bool(1), int64(17), object(18)\n",
            "memory usage: 272.1+ KB\n"
          ]
        }
      ]
    },
    {
      "cell_type": "code",
      "source": [
        "df.describe().T"
      ],
      "metadata": {
        "id": "z1WlEzW0ADIW",
        "colab": {
          "base_uri": "https://localhost:8080/",
          "height": 613
        },
        "outputId": "a62ee8ed-fe84-47d6-b9a8-9144f688f7d2"
      },
      "execution_count": 115,
      "outputs": [
        {
          "output_type": "execute_result",
          "data": {
            "text/plain": [
              "             count        mean         std   min    25%    50%    75%    max\n",
              "Unnamed: 0   991.0  495.000000  286.221360   0.0  247.5  495.0  742.5  990.0\n",
              "age          991.0   16.696266    1.233201  15.0   16.0   17.0   18.0   22.0\n",
              "Medu         991.0    2.619576    1.126172   0.0    2.0    3.0    4.0    4.0\n",
              "Fedu         991.0    2.402624    1.100208   0.0    2.0    2.0    3.0    4.0\n",
              "traveltime   991.0    1.515641    0.729956   1.0    1.0    1.0    2.0    4.0\n",
              "studytime    991.0    1.918264    0.713775   1.0    1.0    2.0    2.0    3.0\n",
              "failures     991.0    0.231080    0.614704   0.0    0.0    0.0    0.0    3.0\n",
              "famrel       991.0    3.940464    0.924136   1.0    4.0    4.0    5.0    5.0\n",
              "freetime     991.0    2.158426    0.768132   1.0    2.0    2.0    3.0    3.0\n",
              "goout        991.0    3.004036    0.929855   1.0    2.0    3.0    4.0    4.0\n",
              "Dalc         991.0    1.494450    0.917682   1.0    1.0    1.0    2.0    5.0\n",
              "Walc         991.0    2.223007    1.158942   1.0    1.0    2.0    3.0    4.0\n",
              "health       991.0    3.536831    1.431396   1.0    2.5    4.0    5.0    5.0\n",
              "absences     991.0    2.785066    2.773835   0.0    0.0    1.0    5.0    7.0\n",
              "G1           991.0   11.417760    2.895669   0.0    9.0   11.0   13.0   19.0\n",
              "G2           991.0   11.611504    2.831181   5.0   10.0   11.0   13.0   19.0\n",
              "G3           991.0   11.948537    2.912248   1.0   10.0   12.0   14.0   20.0\n",
              "Parents_edu  991.0    2.825429    1.054475   1.0    2.0    3.0    4.0    4.0"
            ],
            "text/html": [
              "\n",
              "  <div id=\"df-63546513-2df9-46e5-abd9-aa75503d4f0d\" class=\"colab-df-container\">\n",
              "    <div>\n",
              "<style scoped>\n",
              "    .dataframe tbody tr th:only-of-type {\n",
              "        vertical-align: middle;\n",
              "    }\n",
              "\n",
              "    .dataframe tbody tr th {\n",
              "        vertical-align: top;\n",
              "    }\n",
              "\n",
              "    .dataframe thead th {\n",
              "        text-align: right;\n",
              "    }\n",
              "</style>\n",
              "<table border=\"1\" class=\"dataframe\">\n",
              "  <thead>\n",
              "    <tr style=\"text-align: right;\">\n",
              "      <th></th>\n",
              "      <th>count</th>\n",
              "      <th>mean</th>\n",
              "      <th>std</th>\n",
              "      <th>min</th>\n",
              "      <th>25%</th>\n",
              "      <th>50%</th>\n",
              "      <th>75%</th>\n",
              "      <th>max</th>\n",
              "    </tr>\n",
              "  </thead>\n",
              "  <tbody>\n",
              "    <tr>\n",
              "      <th>Unnamed: 0</th>\n",
              "      <td>991.0</td>\n",
              "      <td>495.000000</td>\n",
              "      <td>286.221360</td>\n",
              "      <td>0.0</td>\n",
              "      <td>247.5</td>\n",
              "      <td>495.0</td>\n",
              "      <td>742.5</td>\n",
              "      <td>990.0</td>\n",
              "    </tr>\n",
              "    <tr>\n",
              "      <th>age</th>\n",
              "      <td>991.0</td>\n",
              "      <td>16.696266</td>\n",
              "      <td>1.233201</td>\n",
              "      <td>15.0</td>\n",
              "      <td>16.0</td>\n",
              "      <td>17.0</td>\n",
              "      <td>18.0</td>\n",
              "      <td>22.0</td>\n",
              "    </tr>\n",
              "    <tr>\n",
              "      <th>Medu</th>\n",
              "      <td>991.0</td>\n",
              "      <td>2.619576</td>\n",
              "      <td>1.126172</td>\n",
              "      <td>0.0</td>\n",
              "      <td>2.0</td>\n",
              "      <td>3.0</td>\n",
              "      <td>4.0</td>\n",
              "      <td>4.0</td>\n",
              "    </tr>\n",
              "    <tr>\n",
              "      <th>Fedu</th>\n",
              "      <td>991.0</td>\n",
              "      <td>2.402624</td>\n",
              "      <td>1.100208</td>\n",
              "      <td>0.0</td>\n",
              "      <td>2.0</td>\n",
              "      <td>2.0</td>\n",
              "      <td>3.0</td>\n",
              "      <td>4.0</td>\n",
              "    </tr>\n",
              "    <tr>\n",
              "      <th>traveltime</th>\n",
              "      <td>991.0</td>\n",
              "      <td>1.515641</td>\n",
              "      <td>0.729956</td>\n",
              "      <td>1.0</td>\n",
              "      <td>1.0</td>\n",
              "      <td>1.0</td>\n",
              "      <td>2.0</td>\n",
              "      <td>4.0</td>\n",
              "    </tr>\n",
              "    <tr>\n",
              "      <th>studytime</th>\n",
              "      <td>991.0</td>\n",
              "      <td>1.918264</td>\n",
              "      <td>0.713775</td>\n",
              "      <td>1.0</td>\n",
              "      <td>1.0</td>\n",
              "      <td>2.0</td>\n",
              "      <td>2.0</td>\n",
              "      <td>3.0</td>\n",
              "    </tr>\n",
              "    <tr>\n",
              "      <th>failures</th>\n",
              "      <td>991.0</td>\n",
              "      <td>0.231080</td>\n",
              "      <td>0.614704</td>\n",
              "      <td>0.0</td>\n",
              "      <td>0.0</td>\n",
              "      <td>0.0</td>\n",
              "      <td>0.0</td>\n",
              "      <td>3.0</td>\n",
              "    </tr>\n",
              "    <tr>\n",
              "      <th>famrel</th>\n",
              "      <td>991.0</td>\n",
              "      <td>3.940464</td>\n",
              "      <td>0.924136</td>\n",
              "      <td>1.0</td>\n",
              "      <td>4.0</td>\n",
              "      <td>4.0</td>\n",
              "      <td>5.0</td>\n",
              "      <td>5.0</td>\n",
              "    </tr>\n",
              "    <tr>\n",
              "      <th>freetime</th>\n",
              "      <td>991.0</td>\n",
              "      <td>2.158426</td>\n",
              "      <td>0.768132</td>\n",
              "      <td>1.0</td>\n",
              "      <td>2.0</td>\n",
              "      <td>2.0</td>\n",
              "      <td>3.0</td>\n",
              "      <td>3.0</td>\n",
              "    </tr>\n",
              "    <tr>\n",
              "      <th>goout</th>\n",
              "      <td>991.0</td>\n",
              "      <td>3.004036</td>\n",
              "      <td>0.929855</td>\n",
              "      <td>1.0</td>\n",
              "      <td>2.0</td>\n",
              "      <td>3.0</td>\n",
              "      <td>4.0</td>\n",
              "      <td>4.0</td>\n",
              "    </tr>\n",
              "    <tr>\n",
              "      <th>Dalc</th>\n",
              "      <td>991.0</td>\n",
              "      <td>1.494450</td>\n",
              "      <td>0.917682</td>\n",
              "      <td>1.0</td>\n",
              "      <td>1.0</td>\n",
              "      <td>1.0</td>\n",
              "      <td>2.0</td>\n",
              "      <td>5.0</td>\n",
              "    </tr>\n",
              "    <tr>\n",
              "      <th>Walc</th>\n",
              "      <td>991.0</td>\n",
              "      <td>2.223007</td>\n",
              "      <td>1.158942</td>\n",
              "      <td>1.0</td>\n",
              "      <td>1.0</td>\n",
              "      <td>2.0</td>\n",
              "      <td>3.0</td>\n",
              "      <td>4.0</td>\n",
              "    </tr>\n",
              "    <tr>\n",
              "      <th>health</th>\n",
              "      <td>991.0</td>\n",
              "      <td>3.536831</td>\n",
              "      <td>1.431396</td>\n",
              "      <td>1.0</td>\n",
              "      <td>2.5</td>\n",
              "      <td>4.0</td>\n",
              "      <td>5.0</td>\n",
              "      <td>5.0</td>\n",
              "    </tr>\n",
              "    <tr>\n",
              "      <th>absences</th>\n",
              "      <td>991.0</td>\n",
              "      <td>2.785066</td>\n",
              "      <td>2.773835</td>\n",
              "      <td>0.0</td>\n",
              "      <td>0.0</td>\n",
              "      <td>1.0</td>\n",
              "      <td>5.0</td>\n",
              "      <td>7.0</td>\n",
              "    </tr>\n",
              "    <tr>\n",
              "      <th>G1</th>\n",
              "      <td>991.0</td>\n",
              "      <td>11.417760</td>\n",
              "      <td>2.895669</td>\n",
              "      <td>0.0</td>\n",
              "      <td>9.0</td>\n",
              "      <td>11.0</td>\n",
              "      <td>13.0</td>\n",
              "      <td>19.0</td>\n",
              "    </tr>\n",
              "    <tr>\n",
              "      <th>G2</th>\n",
              "      <td>991.0</td>\n",
              "      <td>11.611504</td>\n",
              "      <td>2.831181</td>\n",
              "      <td>5.0</td>\n",
              "      <td>10.0</td>\n",
              "      <td>11.0</td>\n",
              "      <td>13.0</td>\n",
              "      <td>19.0</td>\n",
              "    </tr>\n",
              "    <tr>\n",
              "      <th>G3</th>\n",
              "      <td>991.0</td>\n",
              "      <td>11.948537</td>\n",
              "      <td>2.912248</td>\n",
              "      <td>1.0</td>\n",
              "      <td>10.0</td>\n",
              "      <td>12.0</td>\n",
              "      <td>14.0</td>\n",
              "      <td>20.0</td>\n",
              "    </tr>\n",
              "    <tr>\n",
              "      <th>Parents_edu</th>\n",
              "      <td>991.0</td>\n",
              "      <td>2.825429</td>\n",
              "      <td>1.054475</td>\n",
              "      <td>1.0</td>\n",
              "      <td>2.0</td>\n",
              "      <td>3.0</td>\n",
              "      <td>4.0</td>\n",
              "      <td>4.0</td>\n",
              "    </tr>\n",
              "  </tbody>\n",
              "</table>\n",
              "</div>\n",
              "    <div class=\"colab-df-buttons\">\n",
              "\n",
              "  <div class=\"colab-df-container\">\n",
              "    <button class=\"colab-df-convert\" onclick=\"convertToInteractive('df-63546513-2df9-46e5-abd9-aa75503d4f0d')\"\n",
              "            title=\"Convert this dataframe to an interactive table.\"\n",
              "            style=\"display:none;\">\n",
              "\n",
              "  <svg xmlns=\"http://www.w3.org/2000/svg\" height=\"24px\" viewBox=\"0 -960 960 960\">\n",
              "    <path d=\"M120-120v-720h720v720H120Zm60-500h600v-160H180v160Zm220 220h160v-160H400v160Zm0 220h160v-160H400v160ZM180-400h160v-160H180v160Zm440 0h160v-160H620v160ZM180-180h160v-160H180v160Zm440 0h160v-160H620v160Z\"/>\n",
              "  </svg>\n",
              "    </button>\n",
              "\n",
              "  <style>\n",
              "    .colab-df-container {\n",
              "      display:flex;\n",
              "      gap: 12px;\n",
              "    }\n",
              "\n",
              "    .colab-df-convert {\n",
              "      background-color: #E8F0FE;\n",
              "      border: none;\n",
              "      border-radius: 50%;\n",
              "      cursor: pointer;\n",
              "      display: none;\n",
              "      fill: #1967D2;\n",
              "      height: 32px;\n",
              "      padding: 0 0 0 0;\n",
              "      width: 32px;\n",
              "    }\n",
              "\n",
              "    .colab-df-convert:hover {\n",
              "      background-color: #E2EBFA;\n",
              "      box-shadow: 0px 1px 2px rgba(60, 64, 67, 0.3), 0px 1px 3px 1px rgba(60, 64, 67, 0.15);\n",
              "      fill: #174EA6;\n",
              "    }\n",
              "\n",
              "    .colab-df-buttons div {\n",
              "      margin-bottom: 4px;\n",
              "    }\n",
              "\n",
              "    [theme=dark] .colab-df-convert {\n",
              "      background-color: #3B4455;\n",
              "      fill: #D2E3FC;\n",
              "    }\n",
              "\n",
              "    [theme=dark] .colab-df-convert:hover {\n",
              "      background-color: #434B5C;\n",
              "      box-shadow: 0px 1px 3px 1px rgba(0, 0, 0, 0.15);\n",
              "      filter: drop-shadow(0px 1px 2px rgba(0, 0, 0, 0.3));\n",
              "      fill: #FFFFFF;\n",
              "    }\n",
              "  </style>\n",
              "\n",
              "    <script>\n",
              "      const buttonEl =\n",
              "        document.querySelector('#df-63546513-2df9-46e5-abd9-aa75503d4f0d button.colab-df-convert');\n",
              "      buttonEl.style.display =\n",
              "        google.colab.kernel.accessAllowed ? 'block' : 'none';\n",
              "\n",
              "      async function convertToInteractive(key) {\n",
              "        const element = document.querySelector('#df-63546513-2df9-46e5-abd9-aa75503d4f0d');\n",
              "        const dataTable =\n",
              "          await google.colab.kernel.invokeFunction('convertToInteractive',\n",
              "                                                    [key], {});\n",
              "        if (!dataTable) return;\n",
              "\n",
              "        const docLinkHtml = 'Like what you see? Visit the ' +\n",
              "          '<a target=\"_blank\" href=https://colab.research.google.com/notebooks/data_table.ipynb>data table notebook</a>'\n",
              "          + ' to learn more about interactive tables.';\n",
              "        element.innerHTML = '';\n",
              "        dataTable['output_type'] = 'display_data';\n",
              "        await google.colab.output.renderOutput(dataTable, element);\n",
              "        const docLink = document.createElement('div');\n",
              "        docLink.innerHTML = docLinkHtml;\n",
              "        element.appendChild(docLink);\n",
              "      }\n",
              "    </script>\n",
              "  </div>\n",
              "\n",
              "\n",
              "<div id=\"df-95018d77-c8a4-4aba-8a43-7139ec3efa00\">\n",
              "  <button class=\"colab-df-quickchart\" onclick=\"quickchart('df-95018d77-c8a4-4aba-8a43-7139ec3efa00')\"\n",
              "            title=\"Suggest charts\"\n",
              "            style=\"display:none;\">\n",
              "\n",
              "<svg xmlns=\"http://www.w3.org/2000/svg\" height=\"24px\"viewBox=\"0 0 24 24\"\n",
              "     width=\"24px\">\n",
              "    <g>\n",
              "        <path d=\"M19 3H5c-1.1 0-2 .9-2 2v14c0 1.1.9 2 2 2h14c1.1 0 2-.9 2-2V5c0-1.1-.9-2-2-2zM9 17H7v-7h2v7zm4 0h-2V7h2v10zm4 0h-2v-4h2v4z\"/>\n",
              "    </g>\n",
              "</svg>\n",
              "  </button>\n",
              "\n",
              "<style>\n",
              "  .colab-df-quickchart {\n",
              "      --bg-color: #E8F0FE;\n",
              "      --fill-color: #1967D2;\n",
              "      --hover-bg-color: #E2EBFA;\n",
              "      --hover-fill-color: #174EA6;\n",
              "      --disabled-fill-color: #AAA;\n",
              "      --disabled-bg-color: #DDD;\n",
              "  }\n",
              "\n",
              "  [theme=dark] .colab-df-quickchart {\n",
              "      --bg-color: #3B4455;\n",
              "      --fill-color: #D2E3FC;\n",
              "      --hover-bg-color: #434B5C;\n",
              "      --hover-fill-color: #FFFFFF;\n",
              "      --disabled-bg-color: #3B4455;\n",
              "      --disabled-fill-color: #666;\n",
              "  }\n",
              "\n",
              "  .colab-df-quickchart {\n",
              "    background-color: var(--bg-color);\n",
              "    border: none;\n",
              "    border-radius: 50%;\n",
              "    cursor: pointer;\n",
              "    display: none;\n",
              "    fill: var(--fill-color);\n",
              "    height: 32px;\n",
              "    padding: 0;\n",
              "    width: 32px;\n",
              "  }\n",
              "\n",
              "  .colab-df-quickchart:hover {\n",
              "    background-color: var(--hover-bg-color);\n",
              "    box-shadow: 0 1px 2px rgba(60, 64, 67, 0.3), 0 1px 3px 1px rgba(60, 64, 67, 0.15);\n",
              "    fill: var(--button-hover-fill-color);\n",
              "  }\n",
              "\n",
              "  .colab-df-quickchart-complete:disabled,\n",
              "  .colab-df-quickchart-complete:disabled:hover {\n",
              "    background-color: var(--disabled-bg-color);\n",
              "    fill: var(--disabled-fill-color);\n",
              "    box-shadow: none;\n",
              "  }\n",
              "\n",
              "  .colab-df-spinner {\n",
              "    border: 2px solid var(--fill-color);\n",
              "    border-color: transparent;\n",
              "    border-bottom-color: var(--fill-color);\n",
              "    animation:\n",
              "      spin 1s steps(1) infinite;\n",
              "  }\n",
              "\n",
              "  @keyframes spin {\n",
              "    0% {\n",
              "      border-color: transparent;\n",
              "      border-bottom-color: var(--fill-color);\n",
              "      border-left-color: var(--fill-color);\n",
              "    }\n",
              "    20% {\n",
              "      border-color: transparent;\n",
              "      border-left-color: var(--fill-color);\n",
              "      border-top-color: var(--fill-color);\n",
              "    }\n",
              "    30% {\n",
              "      border-color: transparent;\n",
              "      border-left-color: var(--fill-color);\n",
              "      border-top-color: var(--fill-color);\n",
              "      border-right-color: var(--fill-color);\n",
              "    }\n",
              "    40% {\n",
              "      border-color: transparent;\n",
              "      border-right-color: var(--fill-color);\n",
              "      border-top-color: var(--fill-color);\n",
              "    }\n",
              "    60% {\n",
              "      border-color: transparent;\n",
              "      border-right-color: var(--fill-color);\n",
              "    }\n",
              "    80% {\n",
              "      border-color: transparent;\n",
              "      border-right-color: var(--fill-color);\n",
              "      border-bottom-color: var(--fill-color);\n",
              "    }\n",
              "    90% {\n",
              "      border-color: transparent;\n",
              "      border-bottom-color: var(--fill-color);\n",
              "    }\n",
              "  }\n",
              "</style>\n",
              "\n",
              "  <script>\n",
              "    async function quickchart(key) {\n",
              "      const quickchartButtonEl =\n",
              "        document.querySelector('#' + key + ' button');\n",
              "      quickchartButtonEl.disabled = true;  // To prevent multiple clicks.\n",
              "      quickchartButtonEl.classList.add('colab-df-spinner');\n",
              "      try {\n",
              "        const charts = await google.colab.kernel.invokeFunction(\n",
              "            'suggestCharts', [key], {});\n",
              "      } catch (error) {\n",
              "        console.error('Error during call to suggestCharts:', error);\n",
              "      }\n",
              "      quickchartButtonEl.classList.remove('colab-df-spinner');\n",
              "      quickchartButtonEl.classList.add('colab-df-quickchart-complete');\n",
              "    }\n",
              "    (() => {\n",
              "      let quickchartButtonEl =\n",
              "        document.querySelector('#df-95018d77-c8a4-4aba-8a43-7139ec3efa00 button');\n",
              "      quickchartButtonEl.style.display =\n",
              "        google.colab.kernel.accessAllowed ? 'block' : 'none';\n",
              "    })();\n",
              "  </script>\n",
              "</div>\n",
              "\n",
              "    </div>\n",
              "  </div>\n"
            ],
            "application/vnd.google.colaboratory.intrinsic+json": {
              "type": "dataframe",
              "summary": "{\n  \"name\": \"df\",\n  \"rows\": 18,\n  \"fields\": [\n    {\n      \"column\": \"count\",\n      \"properties\": {\n        \"dtype\": \"number\",\n        \"std\": 0.0,\n        \"min\": 991.0,\n        \"max\": 991.0,\n        \"num_unique_values\": 1,\n        \"samples\": [\n          991.0\n        ],\n        \"semantic_type\": \"\",\n        \"description\": \"\"\n      }\n    },\n    {\n      \"column\": \"mean\",\n      \"properties\": {\n        \"dtype\": \"number\",\n        \"std\": 115.62563140222453,\n        \"min\": 0.23107971745711403,\n        \"max\": 495.0,\n        \"num_unique_values\": 18,\n        \"samples\": [\n          495.0\n        ],\n        \"semantic_type\": \"\",\n        \"description\": \"\"\n      }\n    },\n    {\n      \"column\": \"std\",\n      \"properties\": {\n        \"dtype\": \"number\",\n        \"std\": 67.13367547633189,\n        \"min\": 0.6147042852341056,\n        \"max\": 286.22135955701606,\n        \"num_unique_values\": 18,\n        \"samples\": [\n          286.22135955701606\n        ],\n        \"semantic_type\": \"\",\n        \"description\": \"\"\n      }\n    },\n    {\n      \"column\": \"min\",\n      \"properties\": {\n        \"dtype\": \"number\",\n        \"std\": 3.5146751167740375,\n        \"min\": 0.0,\n        \"max\": 15.0,\n        \"num_unique_values\": 4,\n        \"samples\": [\n          15.0\n        ],\n        \"semantic_type\": \"\",\n        \"description\": \"\"\n      }\n    },\n    {\n      \"column\": \"25%\",\n      \"properties\": {\n        \"dtype\": \"number\",\n        \"std\": 57.59737421393331,\n        \"min\": 0.0,\n        \"max\": 247.5,\n        \"num_unique_values\": 9,\n        \"samples\": [\n          9.0\n        ],\n        \"semantic_type\": \"\",\n        \"description\": \"\"\n      }\n    },\n    {\n      \"column\": \"50%\",\n      \"properties\": {\n        \"dtype\": \"number\",\n        \"std\": 115.67545313296309,\n        \"min\": 0.0,\n        \"max\": 495.0,\n        \"num_unique_values\": 9,\n        \"samples\": [\n          11.0\n        ],\n        \"semantic_type\": \"\",\n        \"description\": \"\"\n      }\n    },\n    {\n      \"column\": \"75%\",\n      \"properties\": {\n        \"dtype\": \"number\",\n        \"std\": 173.69557030560927,\n        \"min\": 0.0,\n        \"max\": 742.5,\n        \"num_unique_values\": 9,\n        \"samples\": [\n          13.0\n        ],\n        \"semantic_type\": \"\",\n        \"description\": \"\"\n      }\n    },\n    {\n      \"column\": \"max\",\n      \"properties\": {\n        \"dtype\": \"number\",\n        \"std\": 231.5726921826187,\n        \"min\": 3.0,\n        \"max\": 990.0,\n        \"num_unique_values\": 8,\n        \"samples\": [\n          22.0\n        ],\n        \"semantic_type\": \"\",\n        \"description\": \"\"\n      }\n    }\n  ]\n}"
            }
          },
          "metadata": {},
          "execution_count": 115
        }
      ]
    },
    {
      "cell_type": "code",
      "source": [
        "\"\"\"\n",
        "#Sütunun içeriğine bakmak için kullandık.\n",
        "sütunun_adı = 'studytime'\n",
        "benzersiz_değerler = df[sütunun_adı].unique()\n",
        "print(f\"{sütunun_adı} sütununun benzersiz değerleri: {benzersiz_değerler}\")\n",
        "\"\"\"\n"
      ],
      "metadata": {
        "id": "031NMudlu0ta",
        "colab": {
          "base_uri": "https://localhost:8080/",
          "height": 35
        },
        "outputId": "fda8e25a-6222-42a7-aac0-90e0f237d436"
      },
      "execution_count": null,
      "outputs": [
        {
          "output_type": "execute_result",
          "data": {
            "text/plain": [
              "'\\n#Sütunun içeriğine bakmak için kullandık.\\nsütunun_adı = \\'studytime\\'\\nbenzersiz_değerler = df[sütunun_adı].unique()\\nprint(f\"{sütunun_adı} sütununun benzersiz değerleri: {benzersiz_değerler}\")\\n'"
            ],
            "application/vnd.google.colaboratory.intrinsic+json": {
              "type": "string"
            }
          },
          "metadata": {},
          "execution_count": 122
        }
      ]
    },
    {
      "cell_type": "markdown",
      "source": [
        "Veri setimizi ileride algoritmalarda çalıştırabilmek adına hepsini Encoder kullanmadan numeric hale çeviriyoruz.Çünkü sunum yaparken hangi sayının neyi temsil ettiğini sizlere göstermek istedik.:"
      ],
      "metadata": {
        "id": "jSUQDscIwquA"
      }
    },
    {
      "cell_type": "code",
      "source": [
        "'''# 'school' sütununu dönüştür (1:GP , 0:MS)\n",
        "df_intAll['school'] = df_intAll['school'].replace({'GP': 1, 'MS': 0}).astype(int)\n",
        "\n",
        "# 'sex' sütununu dönüştür (1:Erkek , 0:Kadın)\n",
        "df_intAll['sex'] = df_intAll['sex'].replace({'M': 1, 'F': 0}).astype(int)\n",
        "\n",
        "# 'address' sütununu dönüştür (1=Şehir, 0=Kırsal)\n",
        "df_intAll['address'] = df_intAll['address'].replace({'U': 1, 'R': 0}).astype(int)\n",
        "\n",
        "# 'famsize' sütununu dönüştür (1=Aile sayısı >3, 0= Aile sayısı<=3)\n",
        "df_intAll['famsize'] = df_intAll['famsize'].replace({'GT3': 1, 'LE3': 0}).astype(int)\n",
        "\n",
        "# 'Pstatus' sütununu dönüştür (1:T(ailesi birlikte yaşıyor , 0:A(ailesi ayrı yaşıyor)) )\n",
        "df_intAll['Pstatus'] = df_intAll['Pstatus'].replace({'T': 1, 'A': 0}).astype(int)\n",
        "\n",
        "# 'Mjob' sütununu dönüştür (0:at_home, 1:services, 2:health, 3:teacher, 4:other)\n",
        "df_intAll['Mjob'] = df_intAll['Mjob'].replace({'teacher': 3, 'other': 4, 'services': 1, 'health': 2, 'at_home': 0}).astype(int)\n",
        "\n",
        "# 'Fjob' sütununu dönüştür (0:at_home, 1:services, 2:health, 3:teacher, 4:other)\n",
        "df_intAll['Fjob'] = df_intAll['Fjob'].replace({'teacher': 3, 'other': 4, 'services': 1, 'health': 2, 'at_home': 0}).astype(int)\n",
        "\n",
        "# 'Reason' sütununu dönüştür (0:at_home, 1:services, 2:health, 3:teacher, 4:other)\n",
        "df_intAll['reason'] = df_intAll['reason'].replace({'course': 3, 'other': 0, 'reputation': 1,'home': 2}).astype(int)\n",
        "\n",
        "# 'Guardian' sütununu dönüştür (0:mother ,1:father,2:other)\n",
        "df_intAll['guardian'] = df_intAll['guardian'].replace({ 'mother': 0, 'father': 1,'other': 2}).astype(int)\n",
        "\n",
        "# 'schoolsup' sütununu dönüştür (1:yes , 0:no)\n",
        "df_intAll['schoolsup'] = df_intAll['schoolsup'].replace({'yes': 1, 'no': 0}).astype(int)\n",
        "\n",
        "# 'famsup' sütununu dönüştür (1:yes , 0:no)\n",
        "df_intAll['famsup'] = df_intAll['famsup'].replace({'yes': 1, 'no': 0}).astype(int)\n",
        "\n",
        "# 'paid' sütununu dönüştür (1:yes , 0:no)\n",
        "df_intAll['paid'] = df_intAll['paid'].replace({'yes': 1, 'no': 0}).astype(int)\n",
        "\n",
        "# 'activities' sütununu dönüştür (1:yes , 0:no)\n",
        "df_intAll['activities'] = df_intAll['activities'].replace({'yes': 1, 'no': 0}).astype(int)\n",
        "\n",
        "# 'nursery' sütununu dönüştür (1:yes , 0:no)\n",
        "df_intAll['nursery'] = df_intAll['nursery'].replace({'yes': 1, 'no': 0}).astype(int)\n",
        "\n",
        "# 'higher' sütununu dönüştür (1:yes , 0:no)\n",
        "df_intAll['higher'] = df_intAll['higher'].replace({'yes': 1, 'no': 0}).astype(int)\n",
        "\n",
        "# 'internet' sütununu dönüştür (1:yes , 0:no)\n",
        "df_intAll['internet'] = df_intAll['internet'].replace({'yes': 1, 'no': 0}).astype(int)\n",
        "\n",
        "# 'romantic' sütununu dönüştür (1:yes , 0:no)\n",
        "df_intAll['romantic'] = df_intAll['romantic'].replace({'yes': 1, 'no': 0}).astype(int)\n",
        "\n",
        "# 'subject' sütununu dönüştür (1:Matematik , 0:Portekizce)\n",
        "df_intAll['subject'] = df_intAll['subject'].replace({'Maths': 1, 'Portuguese': 0}).astype(int)\n",
        "\n",
        "# 'Pass' sütununu dönüştür (1:True , 0:False)\n",
        "df_intAll['Pass'] = df_intAll['Pass'].replace({'True': 1, 'False': 0}).astype(int)'''"
      ],
      "metadata": {
        "id": "pGruob2rL4-R",
        "outputId": "67989e20-280d-496b-857a-7baa0e617972",
        "colab": {
          "base_uri": "https://localhost:8080/",
          "height": 105
        }
      },
      "execution_count": null,
      "outputs": [
        {
          "output_type": "execute_result",
          "data": {
            "text/plain": [
              "\"# 'school' sütununu dönüştür (1:GP , 0:MS)\\ndf_intAll['school'] = df_intAll['school'].replace({'GP': 1, 'MS': 0}).astype(int)\\n\\n# 'sex' sütununu dönüştür (1:Erkek , 0:Kadın)\\ndf_intAll['sex'] = df_intAll['sex'].replace({'M': 1, 'F': 0}).astype(int)\\n\\n# 'address' sütununu dönüştür (1=Şehir, 0=Kırsal)\\ndf_intAll['address'] = df_intAll['address'].replace({'U': 1, 'R': 0}).astype(int)\\n\\n# 'famsize' sütununu dönüştür (1=Aile sayısı >3, 0= Aile sayısı<=3)\\ndf_intAll['famsize'] = df_intAll['famsize'].replace({'GT3': 1, 'LE3': 0}).astype(int)\\n\\n# 'Pstatus' sütununu dönüştür (1:T(ailesi birlikte yaşıyor , 0:A(ailesi ayrı yaşıyor)) )\\ndf_intAll['Pstatus'] = df_intAll['Pstatus'].replace({'T': 1, 'A': 0}).astype(int)\\n\\n# 'Mjob' sütununu dönüştür (0:at_home, 1:services, 2:health, 3:teacher, 4:other)\\ndf_intAll['Mjob'] = df_intAll['Mjob'].replace({'teacher': 3, 'other': 4, 'services': 1, 'health': 2, 'at_home': 0}).astype(int)\\n\\n# 'Fjob' sütununu dönüştür (0:at_home, 1:services, 2:health, 3:teacher, 4:other)\\ndf_intAll['Fjob'] = df_intAll['Fjob'].replace({'teacher': 3, 'other': 4, 'services': 1, 'health': 2, 'at_home': 0}).astype(int)\\n\\n# 'Reason' sütununu dönüştür (0:at_home, 1:services, 2:health, 3:teacher, 4:other)\\ndf_intAll['reason'] = df_intAll['reason'].replace({'course': 3, 'other': 0, 'reputation': 1,'home': 2}).astype(int)\\n\\n# 'Guardian' sütununu dönüştür (0:mother ,1:father,2:other)\\ndf_intAll['guardian'] = df_intAll['guardian'].replace({ 'mother': 0, 'father': 1,'other': 2}).astype(int)\\n\\n# 'schoolsup' sütununu dönüştür (1:yes , 0:no)\\ndf_intAll['schoolsup'] = df_intAll['schoolsup'].replace({'yes': 1, 'no': 0}).astype(int)\\n\\n# 'famsup' sütununu dönüştür (1:yes , 0:no)\\ndf_intAll['famsup'] = df_intAll['famsup'].replace({'yes': 1, 'no': 0}).astype(int)\\n\\n# 'paid' sütununu dönüştür (1:yes , 0:no)\\ndf_intAll['paid'] = df_intAll['paid'].replace({'yes': 1, 'no': 0}).astype(int)\\n\\n# 'activities' sütununu dönüştür (1:yes , 0:no)\\ndf_intAll['activities'] = df_intAll['activities'].replace({'yes': 1, 'no': 0}).astype(int)\\n\\n# 'nursery' sütununu dönüştür (1:yes , 0:no)\\ndf_intAll['nursery'] = df_intAll['nursery'].replace({'yes': 1, 'no': 0}).astype(int)\\n\\n# 'higher' sütununu dönüştür (1:yes , 0:no)\\ndf_intAll['higher'] = df_intAll['higher'].replace({'yes': 1, 'no': 0}).astype(int)\\n\\n# 'internet' sütununu dönüştür (1:yes , 0:no)\\ndf_intAll['internet'] = df_intAll['internet'].replace({'yes': 1, 'no': 0}).astype(int)\\n\\n# 'romantic' sütununu dönüştür (1:yes , 0:no)\\ndf_intAll['romantic'] = df_intAll['romantic'].replace({'yes': 1, 'no': 0}).astype(int)\\n\\n# 'subject' sütununu dönüştür (1:Matematik , 0:Portekizce)\\ndf_intAll['subject'] = df_intAll['subject'].replace({'Maths': 1, 'Portuguese': 0}).astype(int)\\n\\n# 'Pass' sütununu dönüştür (1:True , 0:False)\\ndf_intAll['Pass'] = df_intAll['Pass'].replace({'True': 1, 'False': 0}).astype(int)\""
            ],
            "application/vnd.google.colaboratory.intrinsic+json": {
              "type": "string"
            }
          },
          "metadata": {},
          "execution_count": 123
        }
      ]
    },
    {
      "cell_type": "code",
      "source": [
        "from sklearn.preprocessing import LabelEncoder\n",
        "\n",
        "label_encoder = LabelEncoder()\n",
        "\n",
        "# Kategorik sütunları dönüştür\n",
        "categorical_columns = ['school', 'sex', 'address', 'famsize', 'Pstatus', 'Mjob', 'Fjob',\n",
        "                       'reason', 'guardian', 'schoolsup', 'famsup', 'paid', 'activities',\n",
        "                       'nursery', 'higher', 'internet', 'romantic', 'subject', 'Pass']\n",
        "\n",
        "for column in categorical_columns:\n",
        "    df_intAll[column] = label_encoder.fit_transform(df_intAll[column])\n",
        "    # Her sütun için etiketleri ve ilişkili sınıfları yazdır\n",
        "    print(f\"{column}: {dict(zip(label_encoder.classes_, label_encoder.transform(label_encoder.classes_)))}\")"
      ],
      "metadata": {
        "colab": {
          "base_uri": "https://localhost:8080/"
        },
        "id": "Y0-52uo5MhUu",
        "outputId": "70153a7a-2b31-4d48-ceff-d557e03aa98d"
      },
      "execution_count": 116,
      "outputs": [
        {
          "output_type": "stream",
          "name": "stdout",
          "text": [
            "school: {'GP': 0, 'MS': 1}\n",
            "sex: {'F': 0, 'M': 1}\n",
            "address: {'R': 0, 'U': 1}\n",
            "famsize: {'GT3': 0, 'LE3': 1}\n",
            "Pstatus: {'A': 0, 'T': 1}\n",
            "Mjob: {'at_home': 0, 'health': 1, 'other': 2, 'services': 3, 'teacher': 4}\n",
            "Fjob: {'at_home': 0, 'health': 1, 'other': 2, 'services': 3, 'teacher': 4}\n",
            "reason: {'course': 0, 'home': 1, 'other': 2, 'reputation': 3}\n",
            "guardian: {'father': 0, 'mother': 1, 'other': 2}\n",
            "schoolsup: {'no': 0, 'yes': 1}\n",
            "famsup: {'no': 0, 'yes': 1}\n",
            "paid: {'no': 0, 'yes': 1}\n",
            "activities: {'no': 0, 'yes': 1}\n",
            "nursery: {'no': 0, 'yes': 1}\n",
            "higher: {'no': 0, 'yes': 1}\n",
            "internet: {'no': 0, 'yes': 1}\n",
            "romantic: {'no': 0, 'yes': 1}\n",
            "subject: {'Maths': 0, 'Portuguese': 1}\n",
            "Pass: {False: 0, True: 1}\n"
          ]
        }
      ]
    },
    {
      "cell_type": "code",
      "source": [
        "weights = {'g1': 0.3, 'g2': 0.3, 'g3': 0.4}\n",
        "\n",
        "# Ağırlıklı ortalama hesaplaması\n",
        "weighted_avg = (df_intAll['G1'] * weights['g1'] +\n",
        "                df_intAll['G2'] * weights['g2'] +\n",
        "                df_intAll['G3'] * weights['g3'])\n",
        "\n",
        "# Yeni sütunu DataFrame'e ekleyelim\n",
        "df_intAll['AVG'] = weighted_avg"
      ],
      "metadata": {
        "id": "uS5bj7SyPERb"
      },
      "execution_count": 117,
      "outputs": []
    },
    {
      "cell_type": "code",
      "source": [
        "df_math = df_intAll[df_intAll['subject'] == 1]\n",
        "df_por = df_intAll[df_intAll['subject'] == 0]"
      ],
      "metadata": {
        "id": "tn0xnIztTnBO"
      },
      "execution_count": 118,
      "outputs": []
    },
    {
      "cell_type": "markdown",
      "source": [
        "Oluşturacağımız algoritmamızda Bağlımlı değişkeni tek tutmak adına ağırlıklı ortalama kullanarak \"AVG\" yani sınavların ortalamasını hesapladık."
      ],
      "metadata": {
        "id": "nDJrBLCky7ze"
      }
    },
    {
      "cell_type": "markdown",
      "source": [
        " **VERİ ÖN İŞLEME ADIMLARI 4 TANEDİR:**\n",
        "\n",
        "* Veri Temizleme:Veri Setimizde verilerimiz eksiksiz ve doğru olduğu için bu adımda birşey yapmadık.\n",
        "\n",
        "* Veri Birleştirme:İleride algoritmalarımızda kullanmak amacıyla üç adet sınavın ortalamasını alarak AVG adlı bir sütun oluşturarak bu değerleri oraya ekledik.\n",
        "\n",
        "* Veri Dönüştürme:Veri setimizdeki çoğu değerlerimiz int türünde değildi ve bu da algoritma çalıştırmamızda sorun yaratıyordu.İnt olmayan değerlerimizi int türüne çevirdik.\n",
        "\n",
        "* Veri İndirgeme:Şimdilik veri setimizi incelediğimizde gereksiz verilere rastlamadığımız için bu adımı geçtik.  \n",
        "\n",
        "\n",
        "\n",
        "Ekstra olarak ileride kullanmak amacıyla iki tane dersimiz olan Matematik ve Portekizce derslerini iki ayrı veri setine kopyaladık.(df_math,df_por)\n",
        "\n",
        "\n"
      ],
      "metadata": {
        "id": "aqIhAYXpQAMM"
      }
    },
    {
      "cell_type": "code",
      "source": [
        "df_intAll.info()"
      ],
      "metadata": {
        "id": "dgqnN6u3xEu7",
        "colab": {
          "base_uri": "https://localhost:8080/"
        },
        "outputId": "78fe697b-512b-4338-bd9a-caee2ba9cd70"
      },
      "execution_count": 119,
      "outputs": [
        {
          "output_type": "stream",
          "name": "stdout",
          "text": [
            "<class 'pandas.core.frame.DataFrame'>\n",
            "RangeIndex: 991 entries, 0 to 990\n",
            "Data columns (total 37 columns):\n",
            " #   Column       Non-Null Count  Dtype  \n",
            "---  ------       --------------  -----  \n",
            " 0   school       991 non-null    int64  \n",
            " 1   sex          991 non-null    int64  \n",
            " 2   age          991 non-null    int64  \n",
            " 3   address      991 non-null    int64  \n",
            " 4   famsize      991 non-null    int64  \n",
            " 5   Pstatus      991 non-null    int64  \n",
            " 6   Medu         991 non-null    int64  \n",
            " 7   Fedu         991 non-null    int64  \n",
            " 8   Mjob         991 non-null    int64  \n",
            " 9   Fjob         991 non-null    int64  \n",
            " 10  reason       991 non-null    int64  \n",
            " 11  guardian     991 non-null    int64  \n",
            " 12  traveltime   991 non-null    int64  \n",
            " 13  studytime    991 non-null    int64  \n",
            " 14  failures     991 non-null    int64  \n",
            " 15  schoolsup    991 non-null    int64  \n",
            " 16  famsup       991 non-null    int64  \n",
            " 17  paid         991 non-null    int64  \n",
            " 18  activities   991 non-null    int64  \n",
            " 19  nursery      991 non-null    int64  \n",
            " 20  higher       991 non-null    int64  \n",
            " 21  internet     991 non-null    int64  \n",
            " 22  romantic     991 non-null    int64  \n",
            " 23  famrel       991 non-null    int64  \n",
            " 24  freetime     991 non-null    int64  \n",
            " 25  goout        991 non-null    int64  \n",
            " 26  Dalc         991 non-null    int64  \n",
            " 27  Walc         991 non-null    int64  \n",
            " 28  health       991 non-null    int64  \n",
            " 29  absences     991 non-null    int64  \n",
            " 30  G1           991 non-null    int64  \n",
            " 31  G2           991 non-null    int64  \n",
            " 32  G3           991 non-null    int64  \n",
            " 33  subject      991 non-null    int64  \n",
            " 34  Pass         991 non-null    int64  \n",
            " 35  Parents_edu  991 non-null    int64  \n",
            " 36  AVG          991 non-null    float64\n",
            "dtypes: float64(1), int64(36)\n",
            "memory usage: 286.6 KB\n"
          ]
        }
      ]
    },
    {
      "cell_type": "code",
      "source": [
        "age_counts = df['age'].value_counts()\n",
        "\n",
        "plt.figure(figsize=(8, 8))\n",
        "plt.pie(age_counts, labels=age_counts.index, autopct='%1.1f%%', startangle=140)\n",
        "plt.title('Yaşlara Göre Öğrenci Dağılımı')\n",
        "plt.axis('equal')\n",
        "\n",
        "plt.show()"
      ],
      "metadata": {
        "id": "oSqHU0hT_0Sl",
        "colab": {
          "base_uri": "https://localhost:8080/",
          "height": 677
        },
        "outputId": "aa2f1dd0-a380-4d7f-dc8e-c35e5148372e"
      },
      "execution_count": null,
      "outputs": [
        {
          "output_type": "display_data",
          "data": {
            "text/plain": [
              "<Figure size 800x800 with 1 Axes>"
            ],
            "image/png": "[encoded data removed]"
          },
          "metadata": {}
        }
      ]
    },
    {
      "cell_type": "code",
      "source": [
        "\n",
        "maths_pass_rates = []\n",
        "for i in range(1, 4):\n",
        "    maths_pass_count = df[(df['subject'] == 'Maths') & (df['Pass'] == True) & (df['studytime'] == i)].shape[0]\n",
        "    total_maths_students = df[(df['subject'] == 'Maths') & (df['studytime'] == i)].shape[0]\n",
        "    maths_pass_percentage = (maths_pass_count / total_maths_students) * 100 if total_maths_students != 0 else 0\n",
        "    maths_pass_rates.append(maths_pass_percentage)\n",
        "\n",
        "portuguese_pass_rates = []\n",
        "for i in range(1, 4):\n",
        "    portuguese_pass_count = df[(df['subject'] == 'Portuguese') & (df['Pass'] == True) & (df['studytime'] == i)].shape[0]\n",
        "    total_portuguese_students = df[(df['subject'] == 'Portuguese') & (df['studytime'] == i)].shape[0]\n",
        "    portuguese_pass_percentage = (portuguese_pass_count / total_portuguese_students) * 100 if total_portuguese_students != 0 else 0\n",
        "    portuguese_pass_rates.append(portuguese_pass_percentage)\n",
        "\n",
        "\n",
        "plt.figure(figsize=(10, 6))\n",
        "\n",
        "plt.plot(range(1, 4), maths_pass_rates, marker='o', label='Matematik')\n",
        "plt.plot(range(1, 4), portuguese_pass_rates, marker='o', label='Portekizce')\n",
        "\n",
        "plt.xlabel('Study Time')\n",
        "plt.ylabel('Geçen Öğrenci Oranı (%)')\n",
        "plt.title('Çalışma Saatlerine Göre Derslerde Geçenlerin Oranı')\n",
        "\n",
        "plt.legend()\n",
        "plt.grid(True)\n",
        "plt.tight_layout()\n",
        "plt.show()"
      ],
      "metadata": {
        "id": "HQ5EmQCE0X9T",
        "colab": {
          "base_uri": "https://localhost:8080/",
          "height": 607
        },
        "outputId": "8ddb26f2-f1b7-443c-fede-17eb0e2a951c"
      },
      "execution_count": null,
      "outputs": [
        {
          "output_type": "display_data",
          "data": {
            "text/plain": [
              "<Figure size 1000x600 with 1 Axes>"
            ],
            "image/png": "[encoded data removed]"
          },
          "metadata": {}
        }
      ]
    },
    {
      "cell_type": "markdown",
      "source": [
        "Yukarıdaki grafiğimizde Matematik ve Portekizce derslerinde 1,2,3 çalışan öğrencilerin yüzde kaçının dersten geçtiğini görüyoruz.\n",
        "\n",
        "\n",
        "\n",
        "\n"
      ],
      "metadata": {
        "id": "rLNCvs2t87td"
      }
    },
    {
      "cell_type": "markdown",
      "source": [],
      "metadata": {
        "id": "HD9B0oLC-_GB"
      }
    },
    {
      "cell_type": "code",
      "source": [
        "pass_counts = df[df['Pass'] == True].groupby(['subject', 'sex']).size().unstack(fill_value=0)\n",
        "\n",
        "fail_counts = df[df['Pass'] == False].groupby(['subject', 'sex']).size().unstack(fill_value=0)\n",
        "\n",
        "y_limit = max(pass_counts.max().max(), fail_counts.max().max())\n",
        "\n",
        "plt.figure(figsize=(14, 6))\n",
        "\n",
        "plt.subplot(1, 2, 1)\n",
        "pass_counts.plot(kind='bar', color=['skyblue', 'lightgreen'], ax=plt.gca())\n",
        "plt.xlabel('Ders')\n",
        "plt.ylabel('Öğrenci Sayısı')\n",
        "plt.title('Dersleri Geçen Öğrencilerin Cinsiyete Göre Dağılımı')\n",
        "plt.legend(title='Cinsiyet', loc='upper right')\n",
        "plt.xticks(rotation=0)\n",
        "plt.ylim(0, y_limit)\n",
        "plt.grid(axis='y')\n",
        "\n",
        "plt.subplot(1, 2, 2)\n",
        "fail_counts.plot(kind='bar', color=['darkblue', 'darkgreen'], ax=plt.gca())\n",
        "plt.xlabel('Ders')\n",
        "plt.ylabel('Öğrenci Sayısı')\n",
        "plt.title('Dersleri Geçemeyen Öğrencilerin Cinsiyete Göre Dağılımı')\n",
        "plt.legend(title='Cinsiyet', loc='upper right')\n",
        "plt.xticks(rotation=0)\n",
        "plt.ylim(0, y_limit)\n",
        "plt.grid(axis='y')\n",
        "\n",
        "plt.tight_layout()\n",
        "plt.show()"
      ],
      "metadata": {
        "id": "HUy27yqQ9zyJ",
        "colab": {
          "base_uri": "https://localhost:8080/",
          "height": 607
        },
        "outputId": "f24c0ac0-4009-41fb-f3cc-881ae53dc1eb"
      },
      "execution_count": null,
      "outputs": [
        {
          "output_type": "display_data",
          "data": {
            "text/plain": [
              "<Figure size 1400x600 with 2 Axes>"
            ],
            "image/png": "[encoded data removed]"
          },
          "metadata": {}
        }
      ]
    },
    {
      "cell_type": "markdown",
      "source": [
        "Yukarıdaki grafiklerimizde derslerden geçen ve geçemeyen öğrencilerin cinsiyet dağılımları ve sayıları belirtilmiştir."
      ],
      "metadata": {
        "id": "I15adDE6FJp8"
      }
    },
    {
      "cell_type": "code",
      "source": [
        "pass_counts = df[df['Pass'] == True]['reason'].value_counts()\n",
        "fail_counts = df[df['Pass'] == False]['reason'].value_counts()\n",
        "\n",
        "plt.figure(figsize=(10, 6))\n",
        "\n",
        "pass_counts.plot(kind='bar', color='lightgreen', label='Pass')\n",
        "\n",
        "\n",
        "fail_counts.plot(kind='bar', color='lightcoral', label='Fail', bottom=pass_counts)\n",
        "\n",
        "\n",
        "plt.ylabel('Öğrenci Sayısı')\n",
        "plt.title('Reason Kategorilerine Göre Geçen ve Geçmeyen Öğrenci Sayıları')\n",
        "plt.legend()\n",
        "plt.xticks(rotation=45)\n",
        "plt.grid(axis='y')\n",
        "\n",
        "plt.tight_layout()\n",
        "plt.show()"
      ],
      "metadata": {
        "id": "NthdgK5jCQ_Q",
        "colab": {
          "base_uri": "https://localhost:8080/",
          "height": 607
        },
        "outputId": "f26f2924-102d-463e-c5c7-18274d230b73"
      },
      "execution_count": null,
      "outputs": [
        {
          "output_type": "display_data",
          "data": {
            "text/plain": [
              "<Figure size 1000x600 with 1 Axes>"
            ],
            "image/png": "[encoded data removed]"
          },
          "metadata": {}
        }
      ]
    },
    {
      "cell_type": "markdown",
      "source": [
        "Yukarıdaki grafiğimizde \"reason\" yani okulu seçme sebeplerine göre derslerden geçen ve kalan öğrencilerin sayısını görüyoruz."
      ],
      "metadata": {
        "id": "2Z3DZzYwMEzl"
      }
    },
    {
      "cell_type": "code",
      "source": [
        "\n",
        "ortalama_dalc = df.groupby('age')['Dalc'].mean()\n",
        "\n",
        "\n",
        "ortalama_dalc.plot(kind='bar', color='skyblue')\n",
        "plt.xlabel('Yaş')\n",
        "plt.ylabel('Ortalama Hafta içi Alkol Tüketimi')\n",
        "plt.title('Yaşa Göre Ortalama Hafta içi Alkol Tüketimi')\n",
        "plt.xticks(rotation=45)\n",
        "plt.grid(axis='y', linestyle='--', alpha=0.7)\n",
        "plt.show()"
      ],
      "metadata": {
        "id": "mJwND7qLLGSs",
        "colab": {
          "base_uri": "https://localhost:8080/",
          "height": 480
        },
        "outputId": "c9192278-0c3c-4245-a389-e1aa5ba6cf6f"
      },
      "execution_count": null,
      "outputs": [
        {
          "output_type": "display_data",
          "data": {
            "text/plain": [
              "<Figure size 640x480 with 1 Axes>"
            ],
            "image/png": "[encoded data removed]"
          },
          "metadata": {}
        }
      ]
    },
    {
      "cell_type": "markdown",
      "source": [
        "Yukarıdaki grafiğimizde Yaşlara göre hafta içi ortalama alkol tüketim sayılarını görüyoruz."
      ],
      "metadata": {
        "id": "UQ5uRPL8E4V7"
      }
    },
    {
      "cell_type": "code",
      "source": [
        "import matplotlib.pyplot as plt\n",
        "\n",
        "grouped_fjob = df.groupby('Fjob').size()\n",
        "\n",
        "grouped_mjob = df.groupby('Mjob').size()\n",
        "\n",
        "colors = plt.cm.tab10.colors\n",
        "\n",
        "fig, axes = plt.subplots(nrows=1, ncols=2, figsize=(15, 6))\n",
        "\n",
        "grouped_fjob.plot(kind='bar', color=colors, ax=axes[0])\n",
        "axes[0].set_title('Baba Mesleği Kategorileri')\n",
        "axes[0].set_xlabel('Baba Mesleği')\n",
        "axes[0].set_ylabel('Sayı')\n",
        "axes[0].tick_params(axis='x', rotation=45)\n",
        "\n",
        "grouped_mjob.plot(kind='bar', color=colors, ax=axes[1])\n",
        "axes[1].set_title('Anne Mesleği Kategorileri')\n",
        "axes[1].set_xlabel('Anne Mesleği')\n",
        "axes[1].set_ylabel('Sayı')\n",
        "axes[1].tick_params(axis='x', rotation=45)\n",
        "\n",
        "plt.tight_layout()\n",
        "plt.show()\n",
        "\n"
      ],
      "metadata": {
        "id": "RxfuJV4uNDSB",
        "colab": {
          "base_uri": "https://localhost:8080/",
          "height": 607
        },
        "outputId": "8d8781ca-5cf2-46eb-f01c-63610453eb3b"
      },
      "execution_count": null,
      "outputs": [
        {
          "output_type": "display_data",
          "data": {
            "text/plain": [
              "<Figure size 1500x600 with 2 Axes>"
            ],
            "image/png": "[encoded data removed]"
          },
          "metadata": {}
        }
      ]
    },
    {
      "cell_type": "code",
      "source": [
        "Fedu_stats = df['Fedu'].value_counts()\n",
        "\n",
        "Medu_stats = df['Medu'].value_counts()\n",
        "\n",
        "plt.figure(figsize=(10, 5))\n",
        "\n",
        "plt.subplot(1, 2, 1)\n",
        "Fedu_stats.plot(kind='bar', color='skyblue')\n",
        "plt.title('Baba Eğitim Seviyesi')\n",
        "plt.xlabel('Eğitim Seviyesi')\n",
        "plt.ylabel('Sayı')\n",
        "plt.xticks(rotation=60)\n",
        "\n",
        "plt.subplot(1, 2, 2)\n",
        "Medu_stats.plot(kind='bar', color='lightgreen')\n",
        "plt.title('Anne Eğitim Seviyesi')\n",
        "plt.xlabel('Eğitim Seviyesi')\n",
        "plt.ylabel('Sayı')\n",
        "plt.xticks(rotation=60)\n",
        "\n",
        "plt.tight_layout()\n",
        "plt.show()"
      ],
      "metadata": {
        "colab": {
          "base_uri": "https://localhost:8080/",
          "height": 507
        },
        "id": "SxqDkFGmBqdf",
        "outputId": "d13da57f-112b-4513-dd33-6e678503366c"
      },
      "execution_count": null,
      "outputs": [
        {
          "output_type": "display_data",
          "data": {
            "text/plain": [
              "<Figure size 1000x500 with 2 Axes>"
            ],
            "image/png": "[encoded data removed]"
          },
          "metadata": {}
        }
      ]
    },
    {
      "cell_type": "markdown",
      "source": [
        "YUKARIDA VERI GORSELLESTIRME ADIMLARIMIZI TAMAMLADIK"
      ],
      "metadata": {
        "id": "6jPkO7--P5Gf"
      }
    },
    {
      "cell_type": "markdown",
      "source": [
        "**2)ALGORİTMALARI TASARLAMAYA BAŞLIYORUZ**"
      ],
      "metadata": {
        "id": "VyP5b993Ffdy"
      }
    },
    {
      "cell_type": "markdown",
      "source": [
        "Genel ve belirli featurelarda olmak üzere iki türlü makine öğrenimi algoritmalarımızı kullanmak istiyoruz.Belirli featurlarımızda aşşağıda belirttiğimiz üzere 3 çeşit olacaktır.(fam=aile içi etkilerin olduğu özellikler,soche=sosyal ve sağlık etkilerinin olduğu özellikler,\n",
        "eco=ekonomik etkilerin olduğu özellikler) Ve bu featurlarımızı hem genel olarak hem de iki dersimiz için ayrı ayrı accuracy oranlarına bakacağız.Her featurelarımız için SVC,RandomForestClassifier ve Logistic Regresyon modellerini kullanacağız."
      ],
      "metadata": {
        "id": "EiSb6uy2hvWP"
      }
    },
    {
      "cell_type": "code",
      "source": [
        "fam_features = ['famrel', 'Fjob', 'Mjob', 'famsize',\"Medu\",\"Fedu\",'Pstatus','guardian']\n",
        "soche_features = ['romantic', 'Dalc', 'Walc', 'health', 'absences', 'goout']\n",
        "eco_features = ['internet', 'Fjob', 'Mjob', 'famsize',\"Medu\",\"Fedu\",'traveltime','reason','paid','Parents_edu']\n",
        "\n"
      ],
      "metadata": {
        "id": "HVGtTa4MZOWI"
      },
      "execution_count": 120,
      "outputs": []
    },
    {
      "cell_type": "markdown",
      "source": [
        "*2.1)Random Forest Algoritmasını kullanarak Dersten geçmeyi tahminliyoruz.*"
      ],
      "metadata": {
        "id": "wo1NofccllbI"
      }
    },
    {
      "cell_type": "code",
      "source": [
        "from sklearn.ensemble import RandomForestClassifier\n",
        "from sklearn.model_selection import train_test_split\n",
        "from sklearn.metrics import accuracy_score\n",
        "\n",
        "target=(\"Pass\")\n",
        "\n",
        "X = df_intAll[fam_features]\n",
        "y = df_intAll[target]\n",
        "\n",
        "X_train, X_test, y_train, y_test = train_test_split(X, y, test_size=0.2, random_state=42)\n",
        "\n",
        "rf_classifier = RandomForestClassifier(n_estimators=100, random_state=42)\n",
        "\n",
        "rf_classifier.fit(X_train, y_train)\n",
        "\n",
        "\n",
        "y_pred = rf_classifier.predict(X_test)\n",
        "accuracy = accuracy_score(y_test, y_pred)\n",
        "print(\"Random Forest Aile içi özelliklerin Pass'e etkisi:\")\n",
        "print(\"--------------------------------------\")\n",
        "print(\"Genel Accuracy:\", accuracy)\n",
        "\n",
        "\n",
        "X_math = df_math[fam_features]\n",
        "y_math = df_math[target]\n",
        "\n",
        "X_train_math, X_test_math, y_train_math, y_test_math = train_test_split(X_math, y_math, test_size=0.2, random_state=42)\n",
        "\n",
        "rf_classifier_math = RandomForestClassifier(n_estimators=100, random_state=42)\n",
        "rf_classifier_math.fit(X_train_math, y_train_math)\n",
        "\n",
        "y_pred_math = rf_classifier_math.predict(X_test_math)\n",
        "accuracy_math = accuracy_score(y_test_math, y_pred_math)\n",
        "print(\"Maths Accuracy:\", accuracy_math)\n",
        "\n",
        "\n",
        "X_portuguese = df_por[fam_features]\n",
        "y_portuguese = df_por[target]\n",
        "\n",
        "X_train_port, X_test_port, y_train_port, y_test_port = train_test_split(X_portuguese, y_portuguese, test_size=0.2,random_state=42)\n",
        "\n",
        "rf_classifier_port = RandomForestClassifier(n_estimators=100, random_state=42)\n",
        "rf_classifier_port.fit(X_train_port, y_train_port)\n",
        "\n",
        "y_pred_port = rf_classifier_port.predict(X_test_port)\n",
        "accuracy_port = accuracy_score(y_test_port, y_pred_port)\n",
        "print(\"Portuguese Accuracy:\", accuracy_port)\n"
      ],
      "metadata": {
        "colab": {
          "base_uri": "https://localhost:8080/"
        },
        "id": "_TzpV7bOf8TO",
        "outputId": "006c8361-5135-4c9e-840f-88690ad7aa76"
      },
      "execution_count": 121,
      "outputs": [
        {
          "output_type": "stream",
          "name": "stdout",
          "text": [
            "Random Forest Aile içi özelliklerin Pass'e etkisi:\n",
            "--------------------------------------\n",
            "Genel Accuracy: 0.7437185929648241\n",
            "Maths Accuracy: 0.8188976377952756\n",
            "Portuguese Accuracy: 0.6666666666666666\n"
          ]
        }
      ]
    },
    {
      "cell_type": "markdown",
      "source": [
        "Yukarıda aile içi özelliklerin dersleri geçme üzerindeki tahminlemedeki başarı oranını görüyoruz.Ayrıca iki ayrı ders için ayrı ayrı bu algoritmamızdaki başarı oranlarına baktık.Matematik dersi için aile için etkinin algoritmamızda Portekizce dersine göre başarısı daha yüksek olduğunu gördük."
      ],
      "metadata": {
        "id": "_CVeEL1fmDXF"
      }
    },
    {
      "cell_type": "code",
      "source": [
        "from sklearn.ensemble import RandomForestClassifier\n",
        "from sklearn.model_selection import train_test_split\n",
        "from sklearn.metrics import accuracy_score\n",
        "\n",
        "target=(\"Pass\")\n",
        "\n",
        "X = df_intAll[eco_features]\n",
        "y = df_intAll[target]\n",
        "\n",
        "X_train, X_test, y_train, y_test = train_test_split(X, y, test_size=0.2, random_state=42)\n",
        "\n",
        "rf_classifiereco = RandomForestClassifier(n_estimators=100, random_state=42)\n",
        "\n",
        "rf_classifiereco.fit(X_train, y_train)\n",
        "\n",
        "\n",
        "y_pred = rf_classifiereco.predict(X_test)\n",
        "accuracy = accuracy_score(y_test, y_pred)\n",
        "print(\"Random Forest Ekonomik  özelliklerin Pass'e etkisi:\")\n",
        "print(\"--------------------------------------\")\n",
        "print(\"Genel Accuracy:\", accuracy)\n",
        "\n",
        "X_math = df_math[eco_features]\n",
        "y_math = df_math[target]\n",
        "\n",
        "X_train_math, X_test_math, y_train_math, y_test_math = train_test_split(X_math, y_math, test_size=0.2, random_state=42)\n",
        "\n",
        "rf_classifiereco_math = RandomForestClassifier(n_estimators=100, random_state=42)\n",
        "rf_classifiereco_math.fit(X_train_math, y_train_math)\n",
        "\n",
        "y_pred_math = rf_classifiereco_math.predict(X_test_math)\n",
        "accuracy_math = accuracy_score(y_test_math, y_pred_math)\n",
        "print(\"Maths Accuracy:\", accuracy_math)\n",
        "\n",
        "\n",
        "X_portuguese = df_por[eco_features]\n",
        "y_portuguese = df_por[target]\n",
        "\n",
        "X_train_port, X_test_port, y_train_port, y_test_port = train_test_split(X_portuguese, y_portuguese, test_size=0.2,random_state=42)\n",
        "\n",
        "rf_classifiereco_port = RandomForestClassifier(n_estimators=100, random_state=42)\n",
        "rf_classifiereco_port.fit(X_train_port, y_train_port)\n",
        "\n",
        "y_pred_port = rf_classifiereco_port.predict(X_test_port)\n",
        "accuracy_port = accuracy_score(y_test_port, y_pred_port)\n",
        "print(\"Portuguese Accuracy:\", accuracy_port)\n"
      ],
      "metadata": {
        "colab": {
          "base_uri": "https://localhost:8080/"
        },
        "id": "7xNhvEn0dX-u",
        "outputId": "c33b9a8e-1603-44c8-a611-8e9849624b71"
      },
      "execution_count": 122,
      "outputs": [
        {
          "output_type": "stream",
          "name": "stdout",
          "text": [
            "Random Forest Ekonomik  özelliklerin Pass'e etkisi:\n",
            "--------------------------------------\n",
            "Genel Accuracy: 0.7185929648241206\n",
            "Maths Accuracy: 0.8110236220472441\n",
            "Portuguese Accuracy: 0.6944444444444444\n"
          ]
        }
      ]
    },
    {
      "cell_type": "code",
      "source": [
        "from sklearn.ensemble import RandomForestClassifier\n",
        "from sklearn.model_selection import train_test_split\n",
        "from sklearn.metrics import accuracy_score\n",
        "\n",
        "target=(\"Pass\")\n",
        "\n",
        "X = df_intAll[soche_features]\n",
        "y = df_intAll[target]\n",
        "\n",
        "X_train, X_test, y_train, y_test = train_test_split(X, y, test_size=0.2, random_state=42)\n",
        "\n",
        "rf_classifiersoche = RandomForestClassifier(n_estimators=100, random_state=42)\n",
        "\n",
        "rf_classifiersoche.fit(X_train, y_train)\n",
        "\n",
        "\n",
        "y_pred = rf_classifiersoche.predict(X_test)\n",
        "accuracy = accuracy_score(y_test, y_pred)\n",
        "print(\"Random Forest Sağlık ve Sosyal özelliklerin Pass'e etkisi:\")\n",
        "print(\"--------------------------------------\")\n",
        "print(\"Genel Accuracy:\", accuracy)\n",
        "X_math = df_math[soche_features]\n",
        "y_math = df_math[target]\n",
        "\n",
        "\n",
        "rf_classifiersoche_math = RandomForestClassifier(n_estimators=100, random_state=42)\n",
        "rf_classifiersoche_math.fit(X_train_math, y_train_math)\n",
        "\n",
        "y_pred_math = rf_classifiersoche_math.predict(X_test_math)\n",
        "accuracy_math = accuracy_score(y_test_math, y_pred_math)\n",
        "print(\"Maths Accuracy:\", accuracy_math)\n",
        "\n",
        "\n",
        "X_portuguese = df_por[soche_features]\n",
        "y_portuguese = df_por[target]\n",
        "\n",
        "X_train_port, X_test_port, y_train_port, y_test_port = train_test_split(X_portuguese, y_portuguese, test_size=0.2,random_state=42)\n",
        "\n",
        "rf_classifiersoche_port = RandomForestClassifier(n_estimators=100, random_state=42)\n",
        "rf_classifiersoche_port.fit(X_train_port, y_train_port)\n",
        "\n",
        "y_pred_port = rf_classifiersoche_port.predict(X_test_port)\n",
        "accuracy_port = accuracy_score(y_test_port, y_pred_port)\n",
        "print(\"Portuguese Accuracy:\", accuracy_port)\n"
      ],
      "metadata": {
        "colab": {
          "base_uri": "https://localhost:8080/"
        },
        "id": "nMseBYlJfWxN",
        "outputId": "cfe96ce5-ce0f-4198-eb08-42731b9005d0"
      },
      "execution_count": 123,
      "outputs": [
        {
          "output_type": "stream",
          "name": "stdout",
          "text": [
            "Random Forest Sağlık ve Sosyal özelliklerin Pass'e etkisi:\n",
            "--------------------------------------\n",
            "Genel Accuracy: 0.7386934673366834\n",
            "Maths Accuracy: 0.8110236220472441\n",
            "Portuguese Accuracy: 0.7222222222222222\n"
          ]
        }
      ]
    },
    {
      "cell_type": "markdown",
      "source": [
        "*2.2)Logistic R. Algoritmasını kullanarak Dersten geçmeyi tahminliyoruz.*"
      ],
      "metadata": {
        "id": "AJZVS2ffqmyg"
      }
    },
    {
      "cell_type": "code",
      "source": [
        "from sklearn.linear_model import LogisticRegression\n",
        "from sklearn.model_selection import train_test_split\n",
        "from sklearn.metrics import accuracy_score\n",
        "\n",
        "target=(\"Pass\")\n",
        "\n",
        "X = df_intAll[soche_features]\n",
        "y = df_intAll[target]\n",
        "\n",
        "X_train, X_test, y_train, y_test = train_test_split(X, y, test_size=0.2, random_state=42)\n",
        "\n",
        "modellr = LogisticRegression(solver=\"liblinear\")\n",
        "\n",
        "\n",
        "modellr.fit(X_train, y_train)\n",
        "\n",
        "\n",
        "y_pred = modellr.predict(X_test)\n",
        "accuracy = accuracy_score(y_test, y_pred)\n",
        "print(\"Lojistik Sağlık ve Sosyal özelliklerin Pass'e etkisi:\")\n",
        "print(\"--------------------------------------\")\n",
        "print(\"Genel Accuracy:\", accuracy)\n",
        "\n",
        "\n",
        "X_math = df_math[soche_features]\n",
        "y_math = df_math[target]\n",
        "\n",
        "X_train_math, X_test_math, y_train_math, y_test_math = train_test_split(X_math, y_math, test_size=0.2, random_state=42)\n",
        "\n",
        "\n",
        "lr_math =LogisticRegression(solver=\"liblinear\")\n",
        "\n",
        "lr_math.fit(X_train_math, y_train_math)\n",
        "\n",
        "y_pred_math = lr_math.predict(X_test_math)\n",
        "accuracy_math = accuracy_score(y_test_math, y_pred_math)\n",
        "print(\"Maths Accuracy:\", accuracy_math)\n",
        "\n",
        "\n",
        "X_portuguese = df_por[soche_features]\n",
        "y_portuguese = df_por[target]\n",
        "\n",
        "X_train_port, X_test_port, y_train_port, y_test_port = train_test_split(X_portuguese, y_portuguese, test_size=0.2,random_state=42)\n",
        "\n",
        "lr_port = LogisticRegression(solver=\"liblinear\")\n",
        "\n",
        "lr_port.fit(X_train_port, y_train_port)\n",
        "\n",
        "y_pred_port = lr_port.predict(X_test_port)\n",
        "accuracy_port = accuracy_score(y_test_port, y_pred_port)\n",
        "print(\"Portuguese Accuracy:\", accuracy_port)\n"
      ],
      "metadata": {
        "colab": {
          "base_uri": "https://localhost:8080/"
        },
        "id": "vV2tNLZNkJoN",
        "outputId": "2b673455-1be6-4011-964e-bcef2b649ab4"
      },
      "execution_count": 124,
      "outputs": [
        {
          "output_type": "stream",
          "name": "stdout",
          "text": [
            "Lojistik Sağlık ve Sosyal özelliklerin Pass'e etkisi:\n",
            "--------------------------------------\n",
            "Genel Accuracy: 0.7889447236180904\n",
            "Maths Accuracy: 0.8346456692913385\n",
            "Portuguese Accuracy: 0.75\n"
          ]
        }
      ]
    },
    {
      "cell_type": "code",
      "source": [
        "from sklearn.linear_model import LogisticRegression\n",
        "from sklearn.model_selection import train_test_split\n",
        "from sklearn.metrics import accuracy_score\n",
        "\n",
        "target=(\"Pass\")\n",
        "\n",
        "X = df_intAll[eco_features]\n",
        "y = df_intAll[target]\n",
        "\n",
        "X_train, X_test, y_train, y_test = train_test_split(X, y, test_size=0.2, random_state=42)\n",
        "\n",
        "modellreco = LogisticRegression(solver=\"liblinear\")\n",
        "\n",
        "\n",
        "modellreco.fit(X_train, y_train)\n",
        "\n",
        "\n",
        "y_pred = modellreco.predict(X_test)\n",
        "accuracy = accuracy_score(y_test, y_pred)\n",
        "print(\"Lojistik Sağlık ve Sosyal özelliklerin Pass'e etkisi:\")\n",
        "print(\"--------------------------------------\")\n",
        "print(\"Genel Accuracy:\", accuracy)\n",
        "\n",
        "X_math = df_math[eco_features]\n",
        "y_math = df_math[target]\n",
        "\n",
        "X_train_math, X_test_math, y_train_math, y_test_math = train_test_split(X_math, y_math, test_size=0.2, random_state=42)\n",
        "lr_matheco =LogisticRegression(solver=\"liblinear\")\n",
        "\n",
        "lr_matheco.fit(X_train_math, y_train_math)\n",
        "\n",
        "y_pred_math = lr_matheco.predict(X_test_math)\n",
        "accuracy_math = accuracy_score(y_test_math, y_pred_math)\n",
        "print(\"Maths Accuracy:\", accuracy_math)\n",
        "\n",
        "\n",
        "X_portuguese = df_por[eco_features]\n",
        "y_portuguese = df_por[target]\n",
        "\n",
        "X_train_port, X_test_port, y_train_port, y_test_port = train_test_split(X_portuguese, y_portuguese, test_size=0.2,random_state=42)\n",
        "\n",
        "lr_poreco = LogisticRegression(solver=\"liblinear\")\n",
        "\n",
        "lr_poreco.fit(X_train_port, y_train_port)\n",
        "\n",
        "y_pred_port = lr_poreco.predict(X_test_port)\n",
        "accuracy_port = accuracy_score(y_test_port, y_pred_port)\n",
        "print(\"Portuguese Accuracy:\", accuracy_port)\n"
      ],
      "metadata": {
        "colab": {
          "base_uri": "https://localhost:8080/"
        },
        "id": "TkpHFgzklbso",
        "outputId": "1e8d3c3b-db84-43f2-80a6-62a7d1d90908"
      },
      "execution_count": 125,
      "outputs": [
        {
          "output_type": "stream",
          "name": "stdout",
          "text": [
            "Lojistik Sağlık ve Sosyal özelliklerin Pass'e etkisi:\n",
            "--------------------------------------\n",
            "Genel Accuracy: 0.7889447236180904\n",
            "Maths Accuracy: 0.8267716535433071\n",
            "Portuguese Accuracy: 0.7361111111111112\n"
          ]
        }
      ]
    },
    {
      "cell_type": "code",
      "source": [
        "from sklearn.linear_model import LogisticRegression\n",
        "from sklearn.model_selection import train_test_split\n",
        "from sklearn.metrics import accuracy_score\n",
        "\n",
        "target=(\"Pass\")\n",
        "\n",
        "X = df_intAll[fam_features]\n",
        "y = df_intAll[target]\n",
        "\n",
        "X_train, X_test, y_train, y_test = train_test_split(X, y, test_size=0.2, random_state=42)\n",
        "\n",
        "lrfam = LogisticRegression(solver=\"liblinear\")\n",
        "\n",
        "\n",
        "lrfam.fit(X_train, y_train)\n",
        "\n",
        "\n",
        "y_pred = lrfam.predict(X_test)\n",
        "accuracy = accuracy_score(y_test, y_pred)\n",
        "print(\"Lojistik Sağlık ve Sosyal özelliklerin Pass'e etkisi:\")\n",
        "print(\"--------------------------------------\")\n",
        "print(\"Genel Accuracy:\", accuracy)\n",
        "\n",
        "X_math = df_math[fam_features]\n",
        "y_math = df_math[target]\n",
        "\n",
        "X_train_math, X_test_math, y_train_math, y_test_math = train_test_split(X_math, y_math, test_size=0.2, random_state=42)\n",
        "\n",
        "lr_mathfam =LogisticRegression(solver=\"liblinear\")\n",
        "\n",
        "lr_mathfam.fit(X_train_math, y_train_math)\n",
        "\n",
        "y_pred_math = lr_mathfam.predict(X_test_math)\n",
        "accuracy_math = accuracy_score(y_test_math, y_pred_math)\n",
        "print(\"Maths Accuracy:\", accuracy_math)\n",
        "\n",
        "\n",
        "X_portuguese = df_por[fam_features]\n",
        "y_portuguese = df_por[target]\n",
        "\n",
        "X_train_port, X_test_port, y_train_port, y_test_port = train_test_split(X_portuguese, y_portuguese, test_size=0.2,random_state=42)\n",
        "\n",
        "lr_porfam = LogisticRegression(solver=\"liblinear\")\n",
        "\n",
        "lr_porfam.fit(X_train_port, y_train_port)\n",
        "\n",
        "y_pred_port = lr_porfam.predict(X_test_port)\n",
        "accuracy_port = accuracy_score(y_test_port, y_pred_port)\n",
        "print(\"Portuguese Accuracy:\", accuracy_port)\n"
      ],
      "metadata": {
        "colab": {
          "base_uri": "https://localhost:8080/"
        },
        "id": "mzoGOJcimorZ",
        "outputId": "ae07c3f6-0cb8-44e8-9584-e7b307c6cf1b"
      },
      "execution_count": 127,
      "outputs": [
        {
          "output_type": "stream",
          "name": "stdout",
          "text": [
            "Lojistik Sağlık ve Sosyal özelliklerin Pass'e etkisi:\n",
            "--------------------------------------\n",
            "Genel Accuracy: 0.7889447236180904\n",
            "Maths Accuracy: 0.8267716535433071\n",
            "Portuguese Accuracy: 0.7361111111111112\n"
          ]
        }
      ]
    },
    {
      "cell_type": "markdown",
      "source": [
        "*2.3) SVC ile Classifier Algoritmasını kullanarak dersten geçmeyi tahminliyoruz.*\n",
        "\n",
        "> Blok alıntı ekle\n",
        "\n"
      ],
      "metadata": {
        "id": "AzcMGUhouit1"
      }
    },
    {
      "cell_type": "code",
      "source": [
        "from sklearn.model_selection import train_test_split\n",
        "from sklearn.metrics import accuracy_score\n",
        "from sklearn.svm import SVC\n",
        "\n",
        "\n",
        "target=(\"Pass\")\n",
        "\n",
        "X = df_intAll[fam_features]\n",
        "y = df_intAll[target]\n",
        "\n",
        "X_train, X_test, y_train, y_test = train_test_split(X, y, test_size=0.2, random_state=42)\n",
        "\n",
        "svcfam = SVC(kernel='linear')\n",
        "\n",
        "\n",
        "svcfam.fit(X_train, y_train)\n",
        "\n",
        "\n",
        "y_pred = svcfam.predict(X_test)\n",
        "accuracy = accuracy_score(y_test, y_pred)\n",
        "print(\"SVC Sağlık ve Sosyal özelliklerin Pass'e etkisi:\")\n",
        "print(\"--------------------------------------\")\n",
        "print(\"Genel Accuracy:\", accuracy)\n",
        "\n",
        "X_math = df_math[fam_features]\n",
        "y_math = df_math[target]\n",
        "\n",
        "X_train_math, X_test_math, y_train_math, y_test_math = train_test_split(X_math, y_math, test_size=0.2, random_state=42)\n",
        "\n",
        "svcfam_math =SVC(kernel='linear')\n",
        "\n",
        "svcfam_math.fit(X_train_math, y_train_math)\n",
        "\n",
        "y_pred_math = svcfam_math.predict(X_test_math)\n",
        "accuracy_math = accuracy_score(y_test_math, y_pred_math)\n",
        "print(\"Maths Accuracy:\", accuracy_math)\n",
        "\n",
        "\n",
        "X_portuguese = df_por[fam_features]\n",
        "y_portuguese = df_por[target]\n",
        "\n",
        "X_train_port, X_test_port, y_train_port, y_test_port = train_test_split(X_portuguese, y_portuguese, test_size=0.2,random_state=42)\n",
        "\n",
        "svcfam_port = SVC(kernel='linear')\n",
        "\n",
        "svcfam_port.fit(X_train_port, y_train_port)\n",
        "\n",
        "y_pred_port = svcfam_port.predict(X_test_port)\n",
        "accuracy_port = accuracy_score(y_test_port, y_pred_port)\n",
        "print(\"Portuguese Accuracy:\", accuracy_port)\n"
      ],
      "metadata": {
        "colab": {
          "base_uri": "https://localhost:8080/"
        },
        "id": "ZX4UlrjorTwl",
        "outputId": "7bc27ead-d24a-4b89-85cc-f574013e1ecf"
      },
      "execution_count": 128,
      "outputs": [
        {
          "output_type": "stream",
          "name": "stdout",
          "text": [
            "SVC Sağlık ve Sosyal özelliklerin Pass'e etkisi:\n",
            "--------------------------------------\n",
            "Genel Accuracy: 0.7889447236180904\n",
            "Maths Accuracy: 0.8267716535433071\n",
            "Portuguese Accuracy: 0.7361111111111112\n"
          ]
        }
      ]
    },
    {
      "cell_type": "code",
      "source": [
        "from sklearn.model_selection import train_test_split\n",
        "from sklearn.metrics import accuracy_score\n",
        "from sklearn.svm import SVC\n",
        "\n",
        "\n",
        "target=(\"Pass\")\n",
        "\n",
        "X = df_intAll[eco_features]\n",
        "y = df_intAll[target]\n",
        "\n",
        "X_train, X_test, y_train, y_test = train_test_split(X, y, test_size=0.2, random_state=42)\n",
        "\n",
        "svceco = SVC(kernel='linear')\n",
        "\n",
        "\n",
        "svceco.fit(X_train, y_train)\n",
        "\n",
        "\n",
        "y_pred = svceco.predict(X_test)\n",
        "accuracy = accuracy_score(y_test, y_pred)\n",
        "print(\"SVC Sağlık ve Sosyal özelliklerin Pass'e etkisi:\")\n",
        "print(\"--------------------------------------\")\n",
        "print(\"Genel Accuracy:\", accuracy)\n",
        "\n",
        "X_math = df_math[eco_features]\n",
        "y_math = df_math[target]\n",
        "\n",
        "X_train_math, X_test_math, y_train_math, y_test_math = train_test_split(X_math, y_math, test_size=0.2, random_state=42)\n",
        "\n",
        "svceco_math =SVC(kernel='linear')\n",
        "\n",
        "svceco_math.fit(X_train_math, y_train_math)\n",
        "\n",
        "y_pred_math = svceco_math.predict(X_test_math)\n",
        "accuracy_math = accuracy_score(y_test_math, y_pred_math)\n",
        "print(\"Maths Accuracy:\", accuracy_math)\n",
        "\n",
        "\n",
        "X_portuguese = df_por[eco_features]\n",
        "y_portuguese = df_por[target]\n",
        "\n",
        "X_train_port, X_test_port, y_train_port, y_test_port = train_test_split(X_portuguese, y_portuguese, test_size=0.2,random_state=42)\n",
        "\n",
        "svceco_por = SVC(kernel='linear')\n",
        "\n",
        "svceco_por.fit(X_train_port, y_train_port)\n",
        "\n",
        "y_pred_port = svceco_por.predict(X_test_port)\n",
        "accuracy_port = accuracy_score(y_test_port, y_pred_port)\n",
        "print(\"Portuguese Accuracy:\", accuracy_port)\n"
      ],
      "metadata": {
        "colab": {
          "base_uri": "https://localhost:8080/"
        },
        "id": "Ni7Wlrusxebn",
        "outputId": "9fe416da-140f-41fb-f578-a4217c52c654"
      },
      "execution_count": 129,
      "outputs": [
        {
          "output_type": "stream",
          "name": "stdout",
          "text": [
            "SVC Sağlık ve Sosyal özelliklerin Pass'e etkisi:\n",
            "--------------------------------------\n",
            "Genel Accuracy: 0.7889447236180904\n",
            "Maths Accuracy: 0.8267716535433071\n",
            "Portuguese Accuracy: 0.7361111111111112\n"
          ]
        }
      ]
    },
    {
      "cell_type": "code",
      "source": [
        "from sklearn.model_selection import train_test_split\n",
        "from sklearn.metrics import accuracy_score\n",
        "from sklearn.svm import SVC\n",
        "\n",
        "\n",
        "target=(\"Pass\")\n",
        "\n",
        "X = df_intAll[soche_features]\n",
        "y = df_intAll[target]\n",
        "\n",
        "X_train, X_test, y_train, y_test = train_test_split(X, y, test_size=0.2, random_state=8)\n",
        "\n",
        "svcsoche = SVC(kernel='linear')\n",
        "\n",
        "\n",
        "svcsoche.fit(X_train, y_train)\n",
        "\n",
        "\n",
        "y_pred = svcsoche.predict(X_test)\n",
        "accuracy = accuracy_score(y_test, y_pred)\n",
        "print(\"SVC Sağlık ve Sosyal özelliklerin Pass'e etkisi:\")\n",
        "print(\"--------------------------------------\")\n",
        "print(\"Genel Accuracy:\", accuracy)\n",
        "\n",
        "X_math = df_math[soche_features]\n",
        "y_math = df_math[target]\n",
        "\n",
        "X_train_math, X_test_math, y_train_math, y_test_math = train_test_split(X_math, y_math, test_size=0.2, random_state=8)\n",
        "\n",
        "svcsoche_math =SVC(kernel='linear')\n",
        "\n",
        "svcsoche_math.fit(X_train_math, y_train_math)\n",
        "\n",
        "y_pred_math = svcsoche_math.predict(X_test_math)\n",
        "accuracy_math = accuracy_score(y_test_math, y_pred_math)\n",
        "print(\"Maths Accuracy:\", accuracy_math)\n",
        "\n",
        "\n",
        "X_portuguese = df_por[soche_features]\n",
        "y_portuguese = df_por[target]\n",
        "\n",
        "X_train_port, X_test_port, y_train_port, y_test_port = train_test_split(X_portuguese, y_portuguese, test_size=0.2,random_state=8)\n",
        "\n",
        "svcsoche_por = SVC(kernel='linear')\n",
        "\n",
        "svcsoche_por.fit(X_train_port, y_train_port)\n",
        "\n",
        "y_pred_port = svcsoche_por.predict(X_test_port)\n",
        "accuracy_port = accuracy_score(y_test_port, y_pred_port)\n",
        "print(\"Portuguese Accuracy:\", accuracy_port)\n"
      ],
      "metadata": {
        "colab": {
          "base_uri": "https://localhost:8080/"
        },
        "id": "smHWu5WeogTp",
        "outputId": "995d1121-40ed-4a48-cded-4cfa10a6dbd0"
      },
      "execution_count": 130,
      "outputs": [
        {
          "output_type": "stream",
          "name": "stdout",
          "text": [
            "SVC Sağlık ve Sosyal özelliklerin Pass'e etkisi:\n",
            "--------------------------------------\n",
            "Genel Accuracy: 0.8291457286432161\n",
            "Maths Accuracy: 0.8503937007874016\n",
            "Portuguese Accuracy: 0.7361111111111112\n"
          ]
        }
      ]
    },
    {
      "cell_type": "markdown",
      "source": [
        "Yukarıda görüldüğü üzere sağlık ve sosyal  özelliklerin dersleri geçme üzerindeki tahminlemedeki başarı oranı Portekizce dersinde Matematik dersinden daha yüksektir."
      ],
      "metadata": {
        "id": "gKE_kWYQz-ZD"
      }
    },
    {
      "cell_type": "code",
      "source": [
        "import xgboost as xgb\n",
        "from sklearn.model_selection import train_test_split\n",
        "from sklearn.metrics import mean_squared_error\n",
        "from sklearn.metrics import r2_score\n",
        "from xgboost import plot_importance\n",
        "from sklearn.metrics import accuracy_score\n",
        "\n",
        "\n",
        "#sınav skorları olmadan ortalamsını tahmin etme şansı 50 herhangi bir sınavı ekledğimizde sonuç 90 e kadar yükseliyor\n",
        "# Veri kümesi\n",
        "X = df_intAll.drop(['G3', 'G1',\"G2\",\"AVG\"], axis=1)\n",
        "#X = df_intAll.drop(\"G3\" axis=1)\n",
        "y = df_intAll[\"AVG\"]\n",
        "\n",
        "# Veriyi eğitim ve test setlerine ayırma\n",
        "X_train, X_test, y_train, y_test = train_test_split(X, y, test_size=0.2,random_state=8)\n",
        "\n",
        "# XGBoost regresyon modeli oluşturma ve eğitme\n",
        "model = xgb.XGBRegressor(\n",
        "    objective='reg:squarederror', #amaç düşürülmek istenen hesaplama\n",
        "    random_state=8,#hangi random stateten balıcak\n",
        "    learning_rate=0.01,#öğrenme oranı 1 olursa overiftting ihtimali artar bir önceki aaçtan aynısı yapmaya çalışcağı için ve düzgün öğrenme olmaz\n",
        "    max_depth=9,#max derinlik\n",
        "    min_child_weight=4,#yaprakta oluşacak node sayısı\n",
        "    subsample=0.507,#kullanılcak alt örnepin oranı\n",
        "    colsample_bytree=0.57,#hangi özelleriklerin yüzdelik oalrak rastgele seçilip eğtimde kullanılması\n",
        "    n_estimators=834,#oluşutrulcak ağaç sayısı\n",
        "    early_stopping_rounds=2# early stoppingte 2 den fazla gelişme kaydetmmezse  model durur\n",
        "\n",
        "\n",
        "\n",
        ")\n",
        "\n",
        "\n",
        "#verbose eğitim sırasında çıktı vermeyi sağlar true ise\n",
        "model.fit(X_train, y_train, eval_set=[(X_test, y_test)], verbose=False)\n",
        "\n",
        "\n",
        "# Tahminler yapalım\n",
        "y_pred_train = model.predict(X_train)\n",
        "y_pred_test = model.predict(X_test)\n",
        "\n",
        "# Train ve test setlerinde R-kare skorunu hesaplayalım\n",
        "train_r2 = r2_score(y_train, y_pred_train)\n",
        "test_r2 = r2_score(y_test, y_pred_test)\n",
        "\n",
        "print(\"Train seti R-kare skoru:\", train_r2)\n",
        "print(\"Test seti R-kare skoru:\", test_r2)\n",
        "plot_importance(model, max_num_features=10) # top 10 most important features\n",
        "plt.show()\n",
        "\n"
      ],
      "metadata": {
        "colab": {
          "base_uri": "https://localhost:8080/",
          "height": 507
        },
        "id": "mvqWLugRQYcE",
        "outputId": "9d2e8898-aa47-46cd-94e1-bdb3562122ea"
      },
      "execution_count": 134,
      "outputs": [
        {
          "output_type": "stream",
          "name": "stdout",
          "text": [
            "Train seti R-kare skoru: 0.7237408828402663\n",
            "Test seti R-kare skoru: 0.5498952884882207\n"
          ]
        },
        {
          "output_type": "display_data",
          "data": {
            "text/plain": [
              "<Figure size 640x480 with 1 Axes>"
            ],
            "image/png": "[encoded data removed]"
          },
          "metadata": {}
        }
      ]
    },
    {
      "cell_type": "code",
      "source": [
        "!pip install scikit-optimize\n",
        "#skoptu kullanmak için yükledik en iyi hyperparametreyi bulmak için\n"
      ],
      "metadata": {
        "colab": {
          "base_uri": "https://localhost:8080/"
        },
        "id": "JzFNmh8FQ0IS",
        "outputId": "29feb4b8-6bdc-44ea-f9e5-137da54276b3"
      },
      "execution_count": null,
      "outputs": [
        {
          "output_type": "stream",
          "name": "stdout",
          "text": [
            "Collecting scikit-optimize\n",
            "  Downloading scikit_optimize-0.10.1-py2.py3-none-any.whl (107 kB)\n",
            "\u001b[?25l     \u001b[90m━━━━━━━━━━━━━━━━━━━━━━━━━━━━━━━━━━━━━━━━\u001b[0m \u001b[32m0.0/107.7 kB\u001b[0m \u001b[31m?\u001b[0m eta \u001b[36m-:--:--\u001b[0m\r\u001b[2K     \u001b[91m━━━━━━━━━━━━━━━━━━━━━━━━━━━━━━━━━━━━━━\u001b[0m\u001b[90m╺\u001b[0m\u001b[90m━\u001b[0m \u001b[32m102.4/107.7 kB\u001b[0m \u001b[31m3.0 MB/s\u001b[0m eta \u001b[36m0:00:01\u001b[0m\r\u001b[2K     \u001b[90m━━━━━━━━━━━━━━━━━━━━━━━━━━━━━━━━━━━━━━━━\u001b[0m \u001b[32m107.7/107.7 kB\u001b[0m \u001b[31m2.5 MB/s\u001b[0m eta \u001b[36m0:00:00\u001b[0m\n",
            "\u001b[?25hRequirement already satisfied: joblib>=0.11 in /usr/local/lib/python3.10/dist-packages (from scikit-optimize) (1.4.0)\n",
            "Collecting pyaml>=16.9 (from scikit-optimize)\n",
            "  Downloading pyaml-24.4.0-py3-none-any.whl (24 kB)\n",
            "Requirement already satisfied: numpy>=1.20.3 in /usr/local/lib/python3.10/dist-packages (from scikit-optimize) (1.25.2)\n",
            "Requirement already satisfied: scipy>=1.1.0 in /usr/local/lib/python3.10/dist-packages (from scikit-optimize) (1.11.4)\n",
            "Requirement already satisfied: scikit-learn>=1.0.0 in /usr/local/lib/python3.10/dist-packages (from scikit-optimize) (1.2.2)\n",
            "Requirement already satisfied: packaging>=21.3 in /usr/local/lib/python3.10/dist-packages (from scikit-optimize) (24.0)\n",
            "Requirement already satisfied: PyYAML in /usr/local/lib/python3.10/dist-packages (from pyaml>=16.9->scikit-optimize) (6.0.1)\n",
            "Requirement already satisfied: threadpoolctl>=2.0.0 in /usr/local/lib/python3.10/dist-packages (from scikit-learn>=1.0.0->scikit-optimize) (3.4.0)\n",
            "Installing collected packages: pyaml, scikit-optimize\n",
            "Successfully installed pyaml-24.4.0 scikit-optimize-0.10.1\n"
          ]
        }
      ]
    },
    {
      "cell_type": "code",
      "source": [
        "import xgboost as xgb\n",
        "from skopt import BayesSearchCV\n",
        "from sklearn.metrics import mean_squared_error\n",
        "from sklearn.model_selection import train_test_split, RandomizedSearchCV\n",
        "\n",
        "\n",
        "X = df_intAll.drop(['G3', 'G1',\"G2\",\"AVG\"], axis=1)\n",
        "#X = df_intAll.drop(\"G3\" axis=1)\n",
        "y = df_intAll[\"AVG\"]\n",
        "\n",
        "X_train, X_test, y_train, y_test = train_test_split(X, y, test_size=0.2, random_state=42)\n",
        "\n",
        "\n",
        "\n",
        "# BayesSearchCV ile en optimize hyperparametre değerlerini bulduk\n",
        "param_space = {\n",
        "    'learning_rate': (0.01, 0.5, 'log-uniform'),\n",
        "    'max_depth': (1, 11),\n",
        "    'min_child_weight': (1, 11),\n",
        "    'subsample': (0.1, 0.9),\n",
        "    'colsample_bytree': (0.1, 0.9),\n",
        "    'n_estimators': (100, 1000),\n",
        "\n",
        "}\n",
        "\n",
        "\n",
        "\n",
        "\n",
        "model = xgb.XGBRegressor(objective='reg:squarederror', random_state=42)\n",
        "\n",
        "bayes_search = BayesSearchCV(estimator=model, search_spaces=param_space, n_iter=50, scoring='neg_mean_squared_error', cv=5, n_jobs=-1, verbose=2)#njob çalışan işlemci sayısı,cv cross validation test sayısı\n",
        "bayes_search.fit(X, y)\n",
        "\n",
        "print(\"En iyi parametreler:\", bayes_search.best_params_)\n",
        "print(\"En iyi skor (Negatif MSE):\", bayes_search.best_score_)\n",
        "\n",
        "# En iyi modeli kullanarak tahmin yapma altta çıkan değerleri yukardaki modelde değerleri parametleri öyle değiştirdik\n",
        "best_model = bayes_search.best_estimator_\n",
        "predictions = best_model.predict(X)\n",
        "\n",
        "# Tahminlerin hata karesini hesaplama\n",
        "mse = mean_squared_error(y, predictions)\n",
        "print(\"Mean Squared Error:\", mse)\n",
        "\n",
        "\n"
      ],
      "metadata": {
        "colab": {
          "base_uri": "https://localhost:8080/"
        },
        "id": "BDDLwtP7QrUf",
        "outputId": "e92ad422-301c-4cbf-9704-2fbd357f76f9"
      },
      "execution_count": 133,
      "outputs": [
        {
          "output_type": "stream",
          "name": "stdout",
          "text": [
            "Fitting 5 folds for each of 1 candidates, totalling 5 fits\n",
            "Fitting 5 folds for each of 1 candidates, totalling 5 fits\n",
            "Fitting 5 folds for each of 1 candidates, totalling 5 fits\n",
            "Fitting 5 folds for each of 1 candidates, totalling 5 fits\n",
            "Fitting 5 folds for each of 1 candidates, totalling 5 fits\n",
            "Fitting 5 folds for each of 1 candidates, totalling 5 fits\n",
            "Fitting 5 folds for each of 1 candidates, totalling 5 fits\n",
            "Fitting 5 folds for each of 1 candidates, totalling 5 fits\n",
            "Fitting 5 folds for each of 1 candidates, totalling 5 fits\n",
            "Fitting 5 folds for each of 1 candidates, totalling 5 fits\n",
            "Fitting 5 folds for each of 1 candidates, totalling 5 fits\n",
            "Fitting 5 folds for each of 1 candidates, totalling 5 fits\n",
            "Fitting 5 folds for each of 1 candidates, totalling 5 fits\n",
            "Fitting 5 folds for each of 1 candidates, totalling 5 fits\n",
            "Fitting 5 folds for each of 1 candidates, totalling 5 fits\n",
            "Fitting 5 folds for each of 1 candidates, totalling 5 fits\n",
            "Fitting 5 folds for each of 1 candidates, totalling 5 fits\n",
            "Fitting 5 folds for each of 1 candidates, totalling 5 fits\n",
            "Fitting 5 folds for each of 1 candidates, totalling 5 fits\n",
            "Fitting 5 folds for each of 1 candidates, totalling 5 fits\n",
            "Fitting 5 folds for each of 1 candidates, totalling 5 fits\n",
            "Fitting 5 folds for each of 1 candidates, totalling 5 fits\n",
            "Fitting 5 folds for each of 1 candidates, totalling 5 fits\n",
            "Fitting 5 folds for each of 1 candidates, totalling 5 fits\n",
            "Fitting 5 folds for each of 1 candidates, totalling 5 fits\n",
            "Fitting 5 folds for each of 1 candidates, totalling 5 fits\n",
            "Fitting 5 folds for each of 1 candidates, totalling 5 fits\n",
            "Fitting 5 folds for each of 1 candidates, totalling 5 fits\n",
            "Fitting 5 folds for each of 1 candidates, totalling 5 fits\n",
            "Fitting 5 folds for each of 1 candidates, totalling 5 fits\n",
            "Fitting 5 folds for each of 1 candidates, totalling 5 fits\n",
            "Fitting 5 folds for each of 1 candidates, totalling 5 fits\n",
            "Fitting 5 folds for each of 1 candidates, totalling 5 fits\n",
            "Fitting 5 folds for each of 1 candidates, totalling 5 fits\n",
            "Fitting 5 folds for each of 1 candidates, totalling 5 fits\n",
            "Fitting 5 folds for each of 1 candidates, totalling 5 fits\n",
            "Fitting 5 folds for each of 1 candidates, totalling 5 fits\n",
            "Fitting 5 folds for each of 1 candidates, totalling 5 fits\n",
            "Fitting 5 folds for each of 1 candidates, totalling 5 fits\n",
            "Fitting 5 folds for each of 1 candidates, totalling 5 fits\n",
            "Fitting 5 folds for each of 1 candidates, totalling 5 fits\n",
            "Fitting 5 folds for each of 1 candidates, totalling 5 fits\n",
            "Fitting 5 folds for each of 1 candidates, totalling 5 fits\n",
            "Fitting 5 folds for each of 1 candidates, totalling 5 fits\n",
            "Fitting 5 folds for each of 1 candidates, totalling 5 fits\n",
            "Fitting 5 folds for each of 1 candidates, totalling 5 fits\n",
            "Fitting 5 folds for each of 1 candidates, totalling 5 fits\n",
            "Fitting 5 folds for each of 1 candidates, totalling 5 fits\n",
            "Fitting 5 folds for each of 1 candidates, totalling 5 fits\n",
            "Fitting 5 folds for each of 1 candidates, totalling 5 fits\n",
            "En iyi parametreler: OrderedDict([('colsample_bytree', 0.5749658938980264), ('learning_rate', 0.01), ('max_depth', 9), ('min_child_weight', 4), ('n_estimators', 834), ('subsample', 0.5073881659215161)])\n",
            "En iyi skor (Negatif MSE): -3.100043395876187\n",
            "Mean Squared Error: 0.32732836677755334\n"
          ]
        }
      ]
    },
    {
      "cell_type": "code",
      "source": [
        "from sklearn.model_selection import train_test_split\n",
        "from sklearn.linear_model import ElasticNet\n",
        "from sklearn.metrics import mean_squared_error\n",
        "from sklearn.metrics import r2_score\n",
        "\n",
        "\n",
        "X = df_intAll.drop([\"G1\",'G3',\"G2\",\"AVG\"], axis=1)\n",
        "#X = df_intAll.drop(\"G3\" axis=1)\n",
        "y = df_intAll[\"AVG\"]\n",
        "X_train, X_test, y_train, y_test = train_test_split(X, y, test_size=0.2, random_state=42)\n",
        "\n",
        "# ElasticNet regresyon modelini oluştur\n",
        "model = ElasticNet(alpha=0.01, l1_ratio=1, random_state=42)\n",
        "\n",
        "# Modeli eğit\n",
        "model.fit(X_train, y_train)\n",
        "\n",
        "# Modelin performansını değerlendir\n",
        "train_predictions = model.predict(X_train)\n",
        "test_predictions = model.predict(X_test)\n",
        "\n",
        "train_r2 = r2_score(y_train, model.predict(X_train))\n",
        "test_r2 = r2_score(y_test, model.predict(X_test))\n",
        "\n",
        "print(\"ElasticNet Eğitim seti R2 skoru:\", train_r2)\n",
        "print(\"ElasticNet Test seti R2 skoru:\", test_r2)\n"
      ],
      "metadata": {
        "id": "r7FPSZkVTGVZ",
        "colab": {
          "base_uri": "https://localhost:8080/"
        },
        "outputId": "e2d05e9e-7922-496b-f6b9-92007271b6cf"
      },
      "execution_count": 147,
      "outputs": [
        {
          "output_type": "stream",
          "name": "stdout",
          "text": [
            "ElasticNet Eğitim seti R2 skoru: 0.5271682867997733\n",
            "ElasticNet Test seti R2 skoru: 0.49348735854106074\n"
          ]
        }
      ]
    },
    {
      "cell_type": "code",
      "source": [
        "from sklearn.model_selection import train_test_split\n",
        "from sklearn.linear_model import ElasticNet\n",
        "from sklearn.metrics import mean_squared_error\n",
        "from sklearn.metrics import r2_score\n",
        "\n",
        "\n",
        "X = df_intAll.drop(['G3',\"G2\",\"AVG\"], axis=1)\n",
        "#X = df_intAll.drop(\"G3\" axis=1)\n",
        "y = df_intAll[\"AVG\"]\n",
        "X_train, X_test, y_train, y_test = train_test_split(X, y, test_size=0.2, random_state=42)\n",
        "\n",
        "# ElasticNet regresyon modelini oluştur\n",
        "model = ElasticNet(alpha=0.01, l1_ratio=1, random_state=42)\n",
        "\n",
        "# Modeli eğit\n",
        "model.fit(X_train, y_train)\n",
        "\n",
        "# Modelin performansını değerlendir\n",
        "train_predictions = model.predict(X_train)\n",
        "test_predictions = model.predict(X_test)\n",
        "\n",
        "train_r2 = r2_score(y_train, model.predict(X_train))\n",
        "test_r2 = r2_score(y_test, model.predict(X_test))\n",
        "\n",
        "print(\"ElasticNet G1 sınav sonucu eklenen  Eğitim seti R2 skoru:\", train_r2)\n",
        "print(\"ElasticNet G1 sınav sonucu eklenen Test seti R2 skoru:\", test_r2)\n"
      ],
      "metadata": {
        "colab": {
          "base_uri": "https://localhost:8080/"
        },
        "id": "1uBc5BS3G-aW",
        "outputId": "5dfc134c-8772-468f-c966-9f1f43c99a19"
      },
      "execution_count": 148,
      "outputs": [
        {
          "output_type": "stream",
          "name": "stdout",
          "text": [
            "ElasticNet G1 sınav sonucu eklenen  Eğitim seti R2 skoru: 0.9146837512133875\n",
            "ElasticNet G1 sınav sonucu eklenen Test seti R2 skoru: 0.919193452339677\n"
          ]
        }
      ]
    },
    {
      "cell_type": "code",
      "source": [
        "from sklearn.model_selection import train_test_split\n",
        "from sklearn.svm import SVR\n",
        "from sklearn.metrics import r2_score\n",
        "fam_features = ['famrel', 'Fjob', 'Mjob', 'famsize',\"Medu\",\"Fedu\",'Pstatus','guardian',\"G1\"]\n",
        "soche_features = ['romantic', 'Dalc', 'Walc', 'health', 'absences', 'goout',\"G1\"]\n",
        "eco_features = ['internet', 'Fjob', 'Mjob', 'famsize',\"Medu\",\"Fedu\",'traveltime','reason','paid','Parents_edu',\"G1\"]\n",
        "#sadece fam ve g1 kullanıldı\n",
        "X = df_intAll[fam_features]\n",
        "y = df_intAll[\"AVG\"]\n",
        "X_train, X_test, y_train, y_test = train_test_split(X, y, test_size=0.2, random_state=42)\n",
        "\n",
        "\n",
        "# Polinom özelliklerini oluştur\n",
        "model = SVR(kernel='rbf')  # RBF (Gaussian) çekirdek kullanılıyor\n",
        "\n",
        "# Modeli eğit\n",
        "model.fit(X_train, y_train)\n",
        "\n",
        "# Modelin performansını değerlendir (R2 skoru)\n",
        "train_predictions = model.predict(X_train)\n",
        "test_predictions = model.predict(X_test)\n",
        "train_r2 = r2_score(y_train, train_predictions)\n",
        "test_r2 = r2_score(y_test, test_predictions)\n",
        "\n",
        "print(\"SVC Eğitim Seti R2 Skoru:\", train_r2)\n",
        "print(\"SVC Test Seti R2 Skoru:\", test_r2)\n"
      ],
      "metadata": {
        "colab": {
          "base_uri": "https://localhost:8080/"
        },
        "id": "7WD7QDiY27Dy",
        "outputId": "0f43a779-a161-40f1-dc3c-8abb342ce4cf"
      },
      "execution_count": 145,
      "outputs": [
        {
          "output_type": "stream",
          "name": "stdout",
          "text": [
            "SVC Eğitim Seti R2 Skoru: 0.9001911334324345\n",
            "SVC Test Seti R2 Skoru: 0.9060808950713861\n"
          ]
        }
      ]
    },
    {
      "cell_type": "code",
      "source": [
        "from sklearn.model_selection import train_test_split\n",
        "from sklearn.svm import SVR\n",
        "from sklearn.metrics import r2_score\n",
        "fam_features = ['famrel', 'Fjob', 'Mjob', 'famsize',\"Medu\",\"Fedu\",'Pstatus','guardian',\"G1\"]\n",
        "soche_features = ['romantic', 'Dalc', 'Walc', 'health', 'absences', 'goout',\"G1\"]\n",
        "eco_features = ['internet', 'Fjob', 'Mjob', 'famsize',\"Medu\",\"Fedu\",'traveltime','reason','paid','Parents_edu',\"G1\"]\n",
        "#sadece fam ve g1 kullanıldı\n",
        "X = df_intAll[soche_features]\n",
        "y = df_intAll[\"AVG\"]\n",
        "X_train, X_test, y_train, y_test = train_test_split(X, y, test_size=0.2, random_state=42)\n",
        "\n",
        "\n",
        "# Polinom özelliklerini oluştur\n",
        "model = SVR(kernel='rbf')  # RBF (Gaussian) çekirdek kullanılıyor\n",
        "\n",
        "# Modeli eğit\n",
        "model.fit(X_train, y_train)\n",
        "\n",
        "# Modelin performansını değerlendir (R2 skoru)\n",
        "train_predictions = model.predict(X_train)\n",
        "test_predictions = model.predict(X_test)\n",
        "train_r2 = r2_score(y_train, train_predictions)\n",
        "test_r2 = r2_score(y_test, test_predictions)\n",
        "\n",
        "print(\"SVC Eğitim Seti R2 Skoru:\", train_r2)\n",
        "print(\"SVC Test Seti R2 Skoru:\", test_r2)\n",
        "\n"
      ],
      "metadata": {
        "colab": {
          "base_uri": "https://localhost:8080/"
        },
        "id": "COj_XgAHGWsx",
        "outputId": "5c4459be-cc7c-41dc-d782-5dd7edee901a"
      },
      "execution_count": 143,
      "outputs": [
        {
          "output_type": "stream",
          "name": "stdout",
          "text": [
            "Eğitim Seti R2 Skoru: 0.9007055515803292\n",
            "Test Seti R2 Skoru: 0.9124444544667129\n"
          ]
        }
      ]
    },
    {
      "cell_type": "code",
      "source": [
        "from sklearn.model_selection import train_test_split\n",
        "from sklearn.svm import SVR\n",
        "from sklearn.metrics import r2_score\n",
        "fam_features = ['famrel', 'Fjob', 'Mjob', 'famsize',\"Medu\",\"Fedu\",'Pstatus','guardian',\"G1\"]\n",
        "soche_features = ['romantic', 'Dalc', 'Walc', 'health', 'absences', 'goout',\"G1\"]\n",
        "eco_features = ['internet', 'Fjob', 'Mjob', 'famsize',\"Medu\",\"Fedu\",'traveltime','reason','paid','Parents_edu',\"G1\"]\n",
        "#sadece fam ve g1 kullanıldı\n",
        "X = df_intAll[eco_features]\n",
        "y = df_intAll[\"AVG\"]\n",
        "X_train, X_test, y_train, y_test = train_test_split(X, y, test_size=0.2, random_state=42)\n",
        "\n",
        "\n",
        "# Polinom özelliklerini oluştur\n",
        "model = SVR(kernel='rbf')  # RBF (Gaussian) çekirdek kullanılıyor\n",
        "\n",
        "# Modeli eğit\n",
        "model.fit(X_train, y_train)\n",
        "\n",
        "# Modelin performansını değerlendir (R2 skoru)\n",
        "train_predictions = model.predict(X_train)\n",
        "test_predictions = model.predict(X_test)\n",
        "train_r2 = r2_score(y_train, train_predictions)\n",
        "test_r2 = r2_score(y_test, test_predictions)\n",
        "\n",
        "print(\"SVC Eğitim Seti R2 Skoru:\", train_r2)\n",
        "print(\"SVC Test Seti R2 Skoru:\", test_r2)\n",
        "\n"
      ],
      "metadata": {
        "colab": {
          "base_uri": "https://localhost:8080/"
        },
        "id": "Q-AVXLKUGb83",
        "outputId": "f5f4e502-e7a0-42b3-c244-c3a344167c66"
      },
      "execution_count": 142,
      "outputs": [
        {
          "output_type": "stream",
          "name": "stdout",
          "text": [
            "Eğitim Seti R2 Skoru: 0.9009359537268083\n",
            "Test Seti R2 Skoru: 0.9023736643979969\n"
          ]
        }
      ]
    }
  ]
}